{
 "cells": [
  {
   "cell_type": "code",
   "execution_count": 1,
   "id": "76c53fc9",
   "metadata": {},
   "outputs": [],
   "source": [
    "import pandas as pd\n",
    "pd.set_option('display.max_columns', None)\n",
    "pd.set_option('display.max_rows', None)\n",
    "import sys\n",
    "sys.path.append('../src')\n",
    "\n",
    "from support_cleaning import check_nan"
   ]
  },
  {
   "cell_type": "markdown",
   "id": "fe40c242",
   "metadata": {},
   "source": [
    "Importing all the necessary libraries and functions"
   ]
  },
  {
   "cell_type": "code",
   "execution_count": 9,
   "id": "4cbf87d1",
   "metadata": {},
   "outputs": [],
   "source": [
    "moon_phases= pd.read_csv('../data/clean/moon_phases_clean.csv')\n",
    "eclipses= pd.read_csv('../data/clean/eclipses_clean.csv')\n",
    "holidays= pd.read_csv('../data/clean/holidays_clean.csv')\n",
    "births= pd.read_csv('../data/clean/births_clean.csv')"
   ]
  },
  {
   "cell_type": "markdown",
   "id": "1463c2e1",
   "metadata": {},
   "source": [
    "Bringing the necessary data "
   ]
  },
  {
   "cell_type": "code",
   "execution_count": 3,
   "id": "7acc18c6",
   "metadata": {},
   "outputs": [
    {
     "data": {
      "text/html": [
       "<div>\n",
       "<style scoped>\n",
       "    .dataframe tbody tr th:only-of-type {\n",
       "        vertical-align: middle;\n",
       "    }\n",
       "\n",
       "    .dataframe tbody tr th {\n",
       "        vertical-align: top;\n",
       "    }\n",
       "\n",
       "    .dataframe thead th {\n",
       "        text-align: right;\n",
       "    }\n",
       "</style>\n",
       "<table border=\"1\" class=\"dataframe\">\n",
       "  <thead>\n",
       "    <tr style=\"text-align: right;\">\n",
       "      <th></th>\n",
       "      <th>year</th>\n",
       "      <th>month</th>\n",
       "      <th>day</th>\n",
       "      <th>phase</th>\n",
       "    </tr>\n",
       "  </thead>\n",
       "  <tbody>\n",
       "    <tr>\n",
       "      <th>0</th>\n",
       "      <td>1994</td>\n",
       "      <td>1</td>\n",
       "      <td>1</td>\n",
       "      <td>waning gibbous</td>\n",
       "    </tr>\n",
       "    <tr>\n",
       "      <th>1</th>\n",
       "      <td>1994</td>\n",
       "      <td>1</td>\n",
       "      <td>2</td>\n",
       "      <td>waning gibbous</td>\n",
       "    </tr>\n",
       "    <tr>\n",
       "      <th>2</th>\n",
       "      <td>1994</td>\n",
       "      <td>1</td>\n",
       "      <td>3</td>\n",
       "      <td>waning gibbous</td>\n",
       "    </tr>\n",
       "    <tr>\n",
       "      <th>3</th>\n",
       "      <td>1994</td>\n",
       "      <td>1</td>\n",
       "      <td>4</td>\n",
       "      <td>last quarter</td>\n",
       "    </tr>\n",
       "    <tr>\n",
       "      <th>4</th>\n",
       "      <td>1994</td>\n",
       "      <td>1</td>\n",
       "      <td>5</td>\n",
       "      <td>last quarter</td>\n",
       "    </tr>\n",
       "  </tbody>\n",
       "</table>\n",
       "</div>"
      ],
      "text/plain": [
       "   year  month  day           phase\n",
       "0  1994      1    1  waning gibbous\n",
       "1  1994      1    2  waning gibbous\n",
       "2  1994      1    3  waning gibbous\n",
       "3  1994      1    4    last quarter\n",
       "4  1994      1    5    last quarter"
      ]
     },
     "execution_count": 3,
     "metadata": {},
     "output_type": "execute_result"
    }
   ],
   "source": [
    "moon_phases.head()"
   ]
  },
  {
   "cell_type": "code",
   "execution_count": 4,
   "id": "2db06b7c",
   "metadata": {},
   "outputs": [
    {
     "data": {
      "text/html": [
       "<div>\n",
       "<style scoped>\n",
       "    .dataframe tbody tr th:only-of-type {\n",
       "        vertical-align: middle;\n",
       "    }\n",
       "\n",
       "    .dataframe tbody tr th {\n",
       "        vertical-align: top;\n",
       "    }\n",
       "\n",
       "    .dataframe thead th {\n",
       "        text-align: right;\n",
       "    }\n",
       "</style>\n",
       "<table border=\"1\" class=\"dataframe\">\n",
       "  <thead>\n",
       "    <tr style=\"text-align: right;\">\n",
       "      <th></th>\n",
       "      <th>eclipse</th>\n",
       "      <th>year</th>\n",
       "      <th>month</th>\n",
       "      <th>day</th>\n",
       "    </tr>\n",
       "  </thead>\n",
       "  <tbody>\n",
       "    <tr>\n",
       "      <th>0</th>\n",
       "      <td>Solar Eclipse</td>\n",
       "      <td>1994</td>\n",
       "      <td>5</td>\n",
       "      <td>10</td>\n",
       "    </tr>\n",
       "    <tr>\n",
       "      <th>1</th>\n",
       "      <td>Lunar Eclipse</td>\n",
       "      <td>1994</td>\n",
       "      <td>5</td>\n",
       "      <td>25</td>\n",
       "    </tr>\n",
       "    <tr>\n",
       "      <th>2</th>\n",
       "      <td>Solar Eclipse</td>\n",
       "      <td>1994</td>\n",
       "      <td>11</td>\n",
       "      <td>3</td>\n",
       "    </tr>\n",
       "    <tr>\n",
       "      <th>3</th>\n",
       "      <td>Lunar Eclipse</td>\n",
       "      <td>1994</td>\n",
       "      <td>11</td>\n",
       "      <td>18</td>\n",
       "    </tr>\n",
       "    <tr>\n",
       "      <th>4</th>\n",
       "      <td>Lunar Eclipse</td>\n",
       "      <td>1995</td>\n",
       "      <td>4</td>\n",
       "      <td>15</td>\n",
       "    </tr>\n",
       "  </tbody>\n",
       "</table>\n",
       "</div>"
      ],
      "text/plain": [
       "         eclipse  year  month  day\n",
       "0  Solar Eclipse  1994      5   10\n",
       "1  Lunar Eclipse  1994      5   25\n",
       "2  Solar Eclipse  1994     11    3\n",
       "3  Lunar Eclipse  1994     11   18\n",
       "4  Lunar Eclipse  1995      4   15"
      ]
     },
     "execution_count": 4,
     "metadata": {},
     "output_type": "execute_result"
    }
   ],
   "source": [
    "eclipses.head()"
   ]
  },
  {
   "cell_type": "code",
   "execution_count": 7,
   "id": "b1f44292",
   "metadata": {},
   "outputs": [
    {
     "data": {
      "text/html": [
       "<div>\n",
       "<style scoped>\n",
       "    .dataframe tbody tr th:only-of-type {\n",
       "        vertical-align: middle;\n",
       "    }\n",
       "\n",
       "    .dataframe tbody tr th {\n",
       "        vertical-align: top;\n",
       "    }\n",
       "\n",
       "    .dataframe thead th {\n",
       "        text-align: right;\n",
       "    }\n",
       "</style>\n",
       "<table border=\"1\" class=\"dataframe\">\n",
       "  <thead>\n",
       "    <tr style=\"text-align: right;\">\n",
       "      <th></th>\n",
       "      <th>holiday</th>\n",
       "      <th>year</th>\n",
       "      <th>month</th>\n",
       "      <th>day</th>\n",
       "    </tr>\n",
       "  </thead>\n",
       "  <tbody>\n",
       "    <tr>\n",
       "      <th>0</th>\n",
       "      <td>Martin Luther King, Jr. Day</td>\n",
       "      <td>1994</td>\n",
       "      <td>1</td>\n",
       "      <td>17</td>\n",
       "    </tr>\n",
       "    <tr>\n",
       "      <th>1</th>\n",
       "      <td>Washington's Birthday</td>\n",
       "      <td>1994</td>\n",
       "      <td>2</td>\n",
       "      <td>21</td>\n",
       "    </tr>\n",
       "    <tr>\n",
       "      <th>2</th>\n",
       "      <td>Good Friday</td>\n",
       "      <td>1994</td>\n",
       "      <td>4</td>\n",
       "      <td>1</td>\n",
       "    </tr>\n",
       "    <tr>\n",
       "      <th>3</th>\n",
       "      <td>Good Friday</td>\n",
       "      <td>1994</td>\n",
       "      <td>4</td>\n",
       "      <td>1</td>\n",
       "    </tr>\n",
       "    <tr>\n",
       "      <th>4</th>\n",
       "      <td>Memorial Day</td>\n",
       "      <td>1994</td>\n",
       "      <td>5</td>\n",
       "      <td>30</td>\n",
       "    </tr>\n",
       "  </tbody>\n",
       "</table>\n",
       "</div>"
      ],
      "text/plain": [
       "                       holiday  year  month  day\n",
       "0  Martin Luther King, Jr. Day  1994      1   17\n",
       "1        Washington's Birthday  1994      2   21\n",
       "2                  Good Friday  1994      4    1\n",
       "3                  Good Friday  1994      4    1\n",
       "4                 Memorial Day  1994      5   30"
      ]
     },
     "execution_count": 7,
     "metadata": {},
     "output_type": "execute_result"
    }
   ],
   "source": [
    "holidays.head()"
   ]
  },
  {
   "cell_type": "code",
   "execution_count": 10,
   "id": "3b25ac6b",
   "metadata": {},
   "outputs": [
    {
     "data": {
      "text/html": [
       "<div>\n",
       "<style scoped>\n",
       "    .dataframe tbody tr th:only-of-type {\n",
       "        vertical-align: middle;\n",
       "    }\n",
       "\n",
       "    .dataframe tbody tr th {\n",
       "        vertical-align: top;\n",
       "    }\n",
       "\n",
       "    .dataframe thead th {\n",
       "        text-align: right;\n",
       "    }\n",
       "</style>\n",
       "<table border=\"1\" class=\"dataframe\">\n",
       "  <thead>\n",
       "    <tr style=\"text-align: right;\">\n",
       "      <th></th>\n",
       "      <th>year</th>\n",
       "      <th>month</th>\n",
       "      <th>day</th>\n",
       "      <th>dow</th>\n",
       "      <th>births</th>\n",
       "    </tr>\n",
       "  </thead>\n",
       "  <tbody>\n",
       "    <tr>\n",
       "      <th>0</th>\n",
       "      <td>1994</td>\n",
       "      <td>1</td>\n",
       "      <td>1</td>\n",
       "      <td>Saturday</td>\n",
       "      <td>8096</td>\n",
       "    </tr>\n",
       "    <tr>\n",
       "      <th>1</th>\n",
       "      <td>1994</td>\n",
       "      <td>1</td>\n",
       "      <td>2</td>\n",
       "      <td>Sunday</td>\n",
       "      <td>7772</td>\n",
       "    </tr>\n",
       "    <tr>\n",
       "      <th>2</th>\n",
       "      <td>1994</td>\n",
       "      <td>1</td>\n",
       "      <td>3</td>\n",
       "      <td>Monday</td>\n",
       "      <td>10142</td>\n",
       "    </tr>\n",
       "    <tr>\n",
       "      <th>3</th>\n",
       "      <td>1994</td>\n",
       "      <td>1</td>\n",
       "      <td>4</td>\n",
       "      <td>Tuesday</td>\n",
       "      <td>11248</td>\n",
       "    </tr>\n",
       "    <tr>\n",
       "      <th>4</th>\n",
       "      <td>1994</td>\n",
       "      <td>1</td>\n",
       "      <td>5</td>\n",
       "      <td>Wednesday</td>\n",
       "      <td>11053</td>\n",
       "    </tr>\n",
       "  </tbody>\n",
       "</table>\n",
       "</div>"
      ],
      "text/plain": [
       "   year  month  day        dow  births\n",
       "0  1994      1    1   Saturday    8096\n",
       "1  1994      1    2     Sunday    7772\n",
       "2  1994      1    3     Monday   10142\n",
       "3  1994      1    4    Tuesday   11248\n",
       "4  1994      1    5  Wednesday   11053"
      ]
     },
     "execution_count": 10,
     "metadata": {},
     "output_type": "execute_result"
    }
   ],
   "source": [
    "births.head()"
   ]
  },
  {
   "cell_type": "markdown",
   "id": "eff9e7c9",
   "metadata": {},
   "source": [
    "Making sure the format is consistent across all dataframes. "
   ]
  },
  {
   "cell_type": "code",
   "execution_count": 23,
   "id": "4b444831",
   "metadata": {},
   "outputs": [],
   "source": [
    "final = births.merge(moon_phases, on=['year', 'month', 'day'], how='outer') \\\n",
    "                    .merge(eclipses, on=['year', 'month', 'day'], how='outer') \\\n",
    "                    .merge(holidays, on=['year', 'month', 'day'], how='outer')"
   ]
  },
  {
   "cell_type": "code",
   "execution_count": 25,
   "id": "46ed6e7e",
   "metadata": {},
   "outputs": [
    {
     "data": {
      "text/html": [
       "<div>\n",
       "<style scoped>\n",
       "    .dataframe tbody tr th:only-of-type {\n",
       "        vertical-align: middle;\n",
       "    }\n",
       "\n",
       "    .dataframe tbody tr th {\n",
       "        vertical-align: top;\n",
       "    }\n",
       "\n",
       "    .dataframe thead th {\n",
       "        text-align: right;\n",
       "    }\n",
       "</style>\n",
       "<table border=\"1\" class=\"dataframe\">\n",
       "  <thead>\n",
       "    <tr style=\"text-align: right;\">\n",
       "      <th></th>\n",
       "      <th>year</th>\n",
       "      <th>month</th>\n",
       "      <th>day</th>\n",
       "      <th>dow</th>\n",
       "      <th>births</th>\n",
       "      <th>phase</th>\n",
       "      <th>eclipse</th>\n",
       "      <th>holiday</th>\n",
       "    </tr>\n",
       "  </thead>\n",
       "  <tbody>\n",
       "    <tr>\n",
       "      <th>0</th>\n",
       "      <td>1994</td>\n",
       "      <td>1</td>\n",
       "      <td>1</td>\n",
       "      <td>Saturday</td>\n",
       "      <td>8096</td>\n",
       "      <td>waning gibbous</td>\n",
       "      <td>NaN</td>\n",
       "      <td>NaN</td>\n",
       "    </tr>\n",
       "    <tr>\n",
       "      <th>1</th>\n",
       "      <td>1994</td>\n",
       "      <td>1</td>\n",
       "      <td>2</td>\n",
       "      <td>Sunday</td>\n",
       "      <td>7772</td>\n",
       "      <td>waning gibbous</td>\n",
       "      <td>NaN</td>\n",
       "      <td>NaN</td>\n",
       "    </tr>\n",
       "    <tr>\n",
       "      <th>2</th>\n",
       "      <td>1994</td>\n",
       "      <td>1</td>\n",
       "      <td>3</td>\n",
       "      <td>Monday</td>\n",
       "      <td>10142</td>\n",
       "      <td>waning gibbous</td>\n",
       "      <td>NaN</td>\n",
       "      <td>NaN</td>\n",
       "    </tr>\n",
       "    <tr>\n",
       "      <th>3</th>\n",
       "      <td>1994</td>\n",
       "      <td>1</td>\n",
       "      <td>4</td>\n",
       "      <td>Tuesday</td>\n",
       "      <td>11248</td>\n",
       "      <td>last quarter</td>\n",
       "      <td>NaN</td>\n",
       "      <td>NaN</td>\n",
       "    </tr>\n",
       "    <tr>\n",
       "      <th>4</th>\n",
       "      <td>1994</td>\n",
       "      <td>1</td>\n",
       "      <td>5</td>\n",
       "      <td>Wednesday</td>\n",
       "      <td>11053</td>\n",
       "      <td>last quarter</td>\n",
       "      <td>NaN</td>\n",
       "      <td>NaN</td>\n",
       "    </tr>\n",
       "  </tbody>\n",
       "</table>\n",
       "</div>"
      ],
      "text/plain": [
       "   year  month  day        dow  births           phase eclipse holiday\n",
       "0  1994      1    1   Saturday    8096  waning gibbous     NaN     NaN\n",
       "1  1994      1    2     Sunday    7772  waning gibbous     NaN     NaN\n",
       "2  1994      1    3     Monday   10142  waning gibbous     NaN     NaN\n",
       "3  1994      1    4    Tuesday   11248    last quarter     NaN     NaN\n",
       "4  1994      1    5  Wednesday   11053    last quarter     NaN     NaN"
      ]
     },
     "execution_count": 25,
     "metadata": {},
     "output_type": "execute_result"
    }
   ],
   "source": [
    "final.head()"
   ]
  },
  {
   "cell_type": "markdown",
   "id": "a972b148",
   "metadata": {},
   "source": [
    "Merged all the dataframes together. Dataframe births and moon_phases had the same amount of rows. However, dataframe eclipse and holidays had less rows. Only the days where there was an eclipse in the case of eclipses df and only the days where there was a public holiday in the case of holidays. "
   ]
  },
  {
   "cell_type": "code",
   "execution_count": 26,
   "id": "eb6f608e",
   "metadata": {},
   "outputs": [],
   "source": [
    "for index, row in final.iterrows():\n",
    "    if pd.isna(row['eclipse']):\n",
    "        final.loc[index, 'eclipse']= final.loc[index, 'phase']"
   ]
  },
  {
   "cell_type": "markdown",
   "id": "79bdf8e9",
   "metadata": {},
   "source": [
    "Filled in the column eclipse with the value in column phase only for the nulls in column eclipse. That way I can have all the information in one column. "
   ]
  },
  {
   "cell_type": "code",
   "execution_count": 28,
   "id": "67554840",
   "metadata": {},
   "outputs": [],
   "source": [
    "final=final.drop('phase', axis=1)"
   ]
  },
  {
   "cell_type": "markdown",
   "id": "219b5455",
   "metadata": {},
   "source": [
    "Dropped column 'phase' since all the info is now in column 'eclipse'"
   ]
  },
  {
   "cell_type": "code",
   "execution_count": 29,
   "id": "2679ccfd",
   "metadata": {},
   "outputs": [],
   "source": [
    "final=final.rename(columns={'eclipse':'moon_phase'})"
   ]
  },
  {
   "cell_type": "markdown",
   "id": "082509d3",
   "metadata": {},
   "source": [
    "Changed the name of column 'eclipse' to 'moon_phase'"
   ]
  },
  {
   "cell_type": "code",
   "execution_count": 31,
   "id": "8fa5d082",
   "metadata": {},
   "outputs": [],
   "source": [
    "final['holiday'].fillna('Not a holiday', inplace=True)\n"
   ]
  },
  {
   "cell_type": "markdown",
   "id": "384ed743",
   "metadata": {},
   "source": [
    "Filled in the null values in column 'holiday' with 'Not a holiday'"
   ]
  },
  {
   "cell_type": "code",
   "execution_count": 34,
   "id": "070bebf0",
   "metadata": {},
   "outputs": [
    {
     "data": {
      "text/html": [
       "<div>\n",
       "<style scoped>\n",
       "    .dataframe tbody tr th:only-of-type {\n",
       "        vertical-align: middle;\n",
       "    }\n",
       "\n",
       "    .dataframe tbody tr th {\n",
       "        vertical-align: top;\n",
       "    }\n",
       "\n",
       "    .dataframe thead th {\n",
       "        text-align: right;\n",
       "    }\n",
       "</style>\n",
       "<table border=\"1\" class=\"dataframe\">\n",
       "  <thead>\n",
       "    <tr style=\"text-align: right;\">\n",
       "      <th></th>\n",
       "      <th>year</th>\n",
       "      <th>month</th>\n",
       "      <th>day</th>\n",
       "      <th>dow</th>\n",
       "      <th>births</th>\n",
       "      <th>moon_phase</th>\n",
       "      <th>holiday</th>\n",
       "    </tr>\n",
       "  </thead>\n",
       "  <tbody>\n",
       "    <tr>\n",
       "      <th>0</th>\n",
       "      <td>1994</td>\n",
       "      <td>1</td>\n",
       "      <td>1</td>\n",
       "      <td>Saturday</td>\n",
       "      <td>8096</td>\n",
       "      <td>waning gibbous</td>\n",
       "      <td>Not a holiday</td>\n",
       "    </tr>\n",
       "    <tr>\n",
       "      <th>1</th>\n",
       "      <td>1994</td>\n",
       "      <td>1</td>\n",
       "      <td>2</td>\n",
       "      <td>Sunday</td>\n",
       "      <td>7772</td>\n",
       "      <td>waning gibbous</td>\n",
       "      <td>Not a holiday</td>\n",
       "    </tr>\n",
       "    <tr>\n",
       "      <th>2</th>\n",
       "      <td>1994</td>\n",
       "      <td>1</td>\n",
       "      <td>3</td>\n",
       "      <td>Monday</td>\n",
       "      <td>10142</td>\n",
       "      <td>waning gibbous</td>\n",
       "      <td>Not a holiday</td>\n",
       "    </tr>\n",
       "    <tr>\n",
       "      <th>3</th>\n",
       "      <td>1994</td>\n",
       "      <td>1</td>\n",
       "      <td>4</td>\n",
       "      <td>Tuesday</td>\n",
       "      <td>11248</td>\n",
       "      <td>last quarter</td>\n",
       "      <td>Not a holiday</td>\n",
       "    </tr>\n",
       "    <tr>\n",
       "      <th>4</th>\n",
       "      <td>1994</td>\n",
       "      <td>1</td>\n",
       "      <td>5</td>\n",
       "      <td>Wednesday</td>\n",
       "      <td>11053</td>\n",
       "      <td>last quarter</td>\n",
       "      <td>Not a holiday</td>\n",
       "    </tr>\n",
       "  </tbody>\n",
       "</table>\n",
       "</div>"
      ],
      "text/plain": [
       "   year  month  day        dow  births      moon_phase        holiday\n",
       "0  1994      1    1   Saturday    8096  waning gibbous  Not a holiday\n",
       "1  1994      1    2     Sunday    7772  waning gibbous  Not a holiday\n",
       "2  1994      1    3     Monday   10142  waning gibbous  Not a holiday\n",
       "3  1994      1    4    Tuesday   11248    last quarter  Not a holiday\n",
       "4  1994      1    5  Wednesday   11053    last quarter  Not a holiday"
      ]
     },
     "execution_count": 34,
     "metadata": {},
     "output_type": "execute_result"
    }
   ],
   "source": [
    "final.head()"
   ]
  },
  {
   "cell_type": "code",
   "execution_count": 36,
   "id": "cf8d8667",
   "metadata": {},
   "outputs": [],
   "source": [
    "final.to_csv('../data/clean/final_clean.csv', index=False)"
   ]
  },
  {
   "cell_type": "markdown",
   "id": "c0341f4c",
   "metadata": {},
   "source": [
    "Saved file"
   ]
  }
 ],
 "metadata": {
  "kernelspec": {
   "display_name": "Python 3 (ipykernel)",
   "language": "python",
   "name": "python3"
  },
  "language_info": {
   "codemirror_mode": {
    "name": "ipython",
    "version": 3
   },
   "file_extension": ".py",
   "mimetype": "text/x-python",
   "name": "python",
   "nbconvert_exporter": "python",
   "pygments_lexer": "ipython3",
   "version": "3.11.4"
  }
 },
 "nbformat": 4,
 "nbformat_minor": 5
}
