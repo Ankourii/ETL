{
 "cells": [
  {
   "cell_type": "code",
   "execution_count": 1,
   "id": "1cdff3c4",
   "metadata": {},
   "outputs": [],
   "source": [
    "import pandas as pd\n",
    "pd.set_option('display.max_columns', None)\n",
    "pd.set_option('display.max_rows', None)\n",
    "import re\n",
    "import sys\n",
    "sys.path.append('../src')\n",
    "\n",
    "from support_cleaning import *\n"
   ]
  },
  {
   "cell_type": "markdown",
   "id": "25312568",
   "metadata": {},
   "source": [
    "Importing all necessary modules and libraries including the ones I created in support_cleaning.py\n",
    "Changing the display settings for rows and columns in pandas to improve visibility. "
   ]
  },
  {
   "cell_type": "code",
   "execution_count": 2,
   "id": "e91aec74",
   "metadata": {},
   "outputs": [],
   "source": [
    "moon_phases_ori= pd.read_csv('../data/original/moon_phases.csv')\n",
    "moon_phases=moon_phases_ori.copy()"
   ]
  },
  {
   "cell_type": "markdown",
   "id": "b0f61351",
   "metadata": {},
   "source": [
    "Opening the moon_phases file and creating a copy "
   ]
  },
  {
   "cell_type": "code",
   "execution_count": 3,
   "id": "54c35519",
   "metadata": {},
   "outputs": [
    {
     "data": {
      "text/html": [
       "<div>\n",
       "<style scoped>\n",
       "    .dataframe tbody tr th:only-of-type {\n",
       "        vertical-align: middle;\n",
       "    }\n",
       "\n",
       "    .dataframe tbody tr th {\n",
       "        vertical-align: top;\n",
       "    }\n",
       "\n",
       "    .dataframe thead th {\n",
       "        text-align: right;\n",
       "    }\n",
       "</style>\n",
       "<table border=\"1\" class=\"dataframe\">\n",
       "  <thead>\n",
       "    <tr style=\"text-align: right;\">\n",
       "      <th></th>\n",
       "      <th>year</th>\n",
       "      <th>1</th>\n",
       "    </tr>\n",
       "  </thead>\n",
       "  <tbody>\n",
       "    <tr>\n",
       "      <th>0</th>\n",
       "      <td>1994</td>\n",
       "      <td>Date Moon Phase</td>\n",
       "    </tr>\n",
       "    <tr>\n",
       "      <th>1</th>\n",
       "      <td>1994</td>\n",
       "      <td>Sat Jan 1 Waning Gibbous Leo</td>\n",
       "    </tr>\n",
       "    <tr>\n",
       "      <th>2</th>\n",
       "      <td>1994</td>\n",
       "      <td>Sun Jan 2 Waning Gibbous Virgo Pancreas, small...</td>\n",
       "    </tr>\n",
       "    <tr>\n",
       "      <th>3</th>\n",
       "      <td>1994</td>\n",
       "      <td>Mon Jan 3 Waning Gibbous Virgo</td>\n",
       "    </tr>\n",
       "    <tr>\n",
       "      <th>4</th>\n",
       "      <td>1994</td>\n",
       "      <td>Tue Jan 4 Last Quarter</td>\n",
       "    </tr>\n",
       "  </tbody>\n",
       "</table>\n",
       "</div>"
      ],
      "text/plain": [
       "   year                                                  1\n",
       "0  1994                                    Date Moon Phase\n",
       "1  1994                       Sat Jan 1 Waning Gibbous Leo\n",
       "2  1994  Sun Jan 2 Waning Gibbous Virgo Pancreas, small...\n",
       "3  1994                     Mon Jan 3 Waning Gibbous Virgo\n",
       "4  1994                             Tue Jan 4 Last Quarter"
      ]
     },
     "execution_count": 3,
     "metadata": {},
     "output_type": "execute_result"
    }
   ],
   "source": [
    "moon_phases = moon_phases.rename(columns={'0': 'year'})\n",
    "moon_phases.head()"
   ]
  },
  {
   "cell_type": "markdown",
   "id": "ce221c63",
   "metadata": {},
   "source": [
    "Renaming column with years as 'year'"
   ]
  },
  {
   "cell_type": "code",
   "execution_count": 4,
   "id": "1c88c000",
   "metadata": {},
   "outputs": [],
   "source": [
    "moon_phases['month']=moon_phases['1']"
   ]
  },
  {
   "cell_type": "code",
   "execution_count": 5,
   "id": "d8d3df56",
   "metadata": {},
   "outputs": [],
   "source": [
    "moon_phases['day']=moon_phases['1']"
   ]
  },
  {
   "cell_type": "code",
   "execution_count": 6,
   "id": "a0d5efc7",
   "metadata": {},
   "outputs": [],
   "source": [
    "moon_phases['phase']=moon_phases['1']"
   ]
  },
  {
   "cell_type": "markdown",
   "id": "3fd022f1",
   "metadata": {},
   "source": [
    "I want to create a column for month, a column for day and a column for phase so for now i am creating them with the values in column 1 since I will need to use those to calculate the values for my new columns. "
   ]
  },
  {
   "cell_type": "code",
   "execution_count": 7,
   "id": "aa0cf16e",
   "metadata": {},
   "outputs": [
    {
     "data": {
      "text/html": [
       "<div>\n",
       "<style scoped>\n",
       "    .dataframe tbody tr th:only-of-type {\n",
       "        vertical-align: middle;\n",
       "    }\n",
       "\n",
       "    .dataframe tbody tr th {\n",
       "        vertical-align: top;\n",
       "    }\n",
       "\n",
       "    .dataframe thead th {\n",
       "        text-align: right;\n",
       "    }\n",
       "</style>\n",
       "<table border=\"1\" class=\"dataframe\">\n",
       "  <thead>\n",
       "    <tr style=\"text-align: right;\">\n",
       "      <th></th>\n",
       "      <th>year</th>\n",
       "      <th>1</th>\n",
       "      <th>month</th>\n",
       "      <th>day</th>\n",
       "      <th>phase</th>\n",
       "    </tr>\n",
       "  </thead>\n",
       "  <tbody>\n",
       "    <tr>\n",
       "      <th>0</th>\n",
       "      <td>1994</td>\n",
       "      <td>Date Moon Phase</td>\n",
       "      <td>Date Moon Phase</td>\n",
       "      <td>Date Moon Phase</td>\n",
       "      <td>Date Moon Phase</td>\n",
       "    </tr>\n",
       "    <tr>\n",
       "      <th>1</th>\n",
       "      <td>1994</td>\n",
       "      <td>Sat Jan 1 Waning Gibbous Leo</td>\n",
       "      <td>Sat Jan 1 Waning Gibbous Leo</td>\n",
       "      <td>Sat Jan 1 Waning Gibbous Leo</td>\n",
       "      <td>Sat Jan 1 Waning Gibbous Leo</td>\n",
       "    </tr>\n",
       "    <tr>\n",
       "      <th>2</th>\n",
       "      <td>1994</td>\n",
       "      <td>Sun Jan 2 Waning Gibbous Virgo Pancreas, small...</td>\n",
       "      <td>Sun Jan 2 Waning Gibbous Virgo Pancreas, small...</td>\n",
       "      <td>Sun Jan 2 Waning Gibbous Virgo Pancreas, small...</td>\n",
       "      <td>Sun Jan 2 Waning Gibbous Virgo Pancreas, small...</td>\n",
       "    </tr>\n",
       "    <tr>\n",
       "      <th>3</th>\n",
       "      <td>1994</td>\n",
       "      <td>Mon Jan 3 Waning Gibbous Virgo</td>\n",
       "      <td>Mon Jan 3 Waning Gibbous Virgo</td>\n",
       "      <td>Mon Jan 3 Waning Gibbous Virgo</td>\n",
       "      <td>Mon Jan 3 Waning Gibbous Virgo</td>\n",
       "    </tr>\n",
       "    <tr>\n",
       "      <th>4</th>\n",
       "      <td>1994</td>\n",
       "      <td>Tue Jan 4 Last Quarter</td>\n",
       "      <td>Tue Jan 4 Last Quarter</td>\n",
       "      <td>Tue Jan 4 Last Quarter</td>\n",
       "      <td>Tue Jan 4 Last Quarter</td>\n",
       "    </tr>\n",
       "  </tbody>\n",
       "</table>\n",
       "</div>"
      ],
      "text/plain": [
       "   year                                                  1  \\\n",
       "0  1994                                    Date Moon Phase   \n",
       "1  1994                       Sat Jan 1 Waning Gibbous Leo   \n",
       "2  1994  Sun Jan 2 Waning Gibbous Virgo Pancreas, small...   \n",
       "3  1994                     Mon Jan 3 Waning Gibbous Virgo   \n",
       "4  1994                             Tue Jan 4 Last Quarter   \n",
       "\n",
       "                                               month  \\\n",
       "0                                    Date Moon Phase   \n",
       "1                       Sat Jan 1 Waning Gibbous Leo   \n",
       "2  Sun Jan 2 Waning Gibbous Virgo Pancreas, small...   \n",
       "3                     Mon Jan 3 Waning Gibbous Virgo   \n",
       "4                             Tue Jan 4 Last Quarter   \n",
       "\n",
       "                                                 day  \\\n",
       "0                                    Date Moon Phase   \n",
       "1                       Sat Jan 1 Waning Gibbous Leo   \n",
       "2  Sun Jan 2 Waning Gibbous Virgo Pancreas, small...   \n",
       "3                     Mon Jan 3 Waning Gibbous Virgo   \n",
       "4                             Tue Jan 4 Last Quarter   \n",
       "\n",
       "                                               phase  \n",
       "0                                    Date Moon Phase  \n",
       "1                       Sat Jan 1 Waning Gibbous Leo  \n",
       "2  Sun Jan 2 Waning Gibbous Virgo Pancreas, small...  \n",
       "3                     Mon Jan 3 Waning Gibbous Virgo  \n",
       "4                             Tue Jan 4 Last Quarter  "
      ]
     },
     "execution_count": 7,
     "metadata": {},
     "output_type": "execute_result"
    }
   ],
   "source": [
    "moon_phases.head()"
   ]
  },
  {
   "cell_type": "code",
   "execution_count": 8,
   "id": "b93f371c",
   "metadata": {},
   "outputs": [],
   "source": [
    "moon_phases['month'] = moon_phases['month'].apply(cleaning_month_phases)"
   ]
  },
  {
   "cell_type": "code",
   "execution_count": 9,
   "id": "60c6d597",
   "metadata": {},
   "outputs": [],
   "source": [
    "moon_phases['day'] = moon_phases['day'].apply(cleaning_day)"
   ]
  },
  {
   "cell_type": "code",
   "execution_count": 10,
   "id": "cb572abb",
   "metadata": {},
   "outputs": [],
   "source": [
    "moon_phases['phase'] = moon_phases['phase'].apply(cleaning_phase)"
   ]
  },
  {
   "cell_type": "markdown",
   "id": "ca445985",
   "metadata": {},
   "source": [
    "I created functions cleaning_month_phases, cleaning_day and cleaning_phase (you can find them in src/support_cleaning.py  \n",
    "I am calling them here to calculate the month for column 'month', the day for column 'day' and the moon phase for column 'phase'"
   ]
  },
  {
   "cell_type": "code",
   "execution_count": 11,
   "id": "37a45bc8",
   "metadata": {},
   "outputs": [],
   "source": [
    "moon_phases = moon_phases.drop('1', axis=1)\n"
   ]
  },
  {
   "cell_type": "markdown",
   "id": "a26b3591",
   "metadata": {},
   "source": [
    "Dropping column '1' since all the info in it is already in my df. "
   ]
  },
  {
   "cell_type": "code",
   "execution_count": 12,
   "id": "70d077da",
   "metadata": {},
   "outputs": [
    {
     "data": {
      "text/html": [
       "<div>\n",
       "<style scoped>\n",
       "    .dataframe tbody tr th:only-of-type {\n",
       "        vertical-align: middle;\n",
       "    }\n",
       "\n",
       "    .dataframe tbody tr th {\n",
       "        vertical-align: top;\n",
       "    }\n",
       "\n",
       "    .dataframe thead th {\n",
       "        text-align: right;\n",
       "    }\n",
       "</style>\n",
       "<table border=\"1\" class=\"dataframe\">\n",
       "  <thead>\n",
       "    <tr style=\"text-align: right;\">\n",
       "      <th></th>\n",
       "      <th>year</th>\n",
       "      <th>month</th>\n",
       "      <th>day</th>\n",
       "      <th>phase</th>\n",
       "    </tr>\n",
       "  </thead>\n",
       "  <tbody>\n",
       "    <tr>\n",
       "      <th>0</th>\n",
       "      <td>1994</td>\n",
       "      <td>Date Moon Phase</td>\n",
       "      <td>Date Moon Phase</td>\n",
       "      <td>Date Moon Phase</td>\n",
       "    </tr>\n",
       "    <tr>\n",
       "      <th>1</th>\n",
       "      <td>1994</td>\n",
       "      <td>1</td>\n",
       "      <td>1</td>\n",
       "      <td>waning gibbous</td>\n",
       "    </tr>\n",
       "    <tr>\n",
       "      <th>2</th>\n",
       "      <td>1994</td>\n",
       "      <td>1</td>\n",
       "      <td>2</td>\n",
       "      <td>waning gibbous</td>\n",
       "    </tr>\n",
       "    <tr>\n",
       "      <th>3</th>\n",
       "      <td>1994</td>\n",
       "      <td>1</td>\n",
       "      <td>3</td>\n",
       "      <td>waning gibbous</td>\n",
       "    </tr>\n",
       "    <tr>\n",
       "      <th>4</th>\n",
       "      <td>1994</td>\n",
       "      <td>1</td>\n",
       "      <td>4</td>\n",
       "      <td>last quarter</td>\n",
       "    </tr>\n",
       "  </tbody>\n",
       "</table>\n",
       "</div>"
      ],
      "text/plain": [
       "   year            month              day            phase\n",
       "0  1994  Date Moon Phase  Date Moon Phase  Date Moon Phase\n",
       "1  1994                1                1   waning gibbous\n",
       "2  1994                1                2   waning gibbous\n",
       "3  1994                1                3   waning gibbous\n",
       "4  1994                1                4     last quarter"
      ]
     },
     "execution_count": 12,
     "metadata": {},
     "output_type": "execute_result"
    }
   ],
   "source": [
    "moon_phases.head()"
   ]
  },
  {
   "cell_type": "code",
   "execution_count": 13,
   "id": "50501752",
   "metadata": {},
   "outputs": [],
   "source": [
    "to_drop=moon_phases['month'][moon_phases['month']=='Date Moon Phase'].index"
   ]
  },
  {
   "cell_type": "code",
   "execution_count": 14,
   "id": "cac51107",
   "metadata": {},
   "outputs": [
    {
     "data": {
      "text/plain": [
       "Int64Index([   0,   32,   61,   93,  124,  156,  187,  219,  251,  282,\n",
       "            ...\n",
       "            3456, 3488, 3519, 3551, 3582, 3614, 3646, 3677, 3709, 3740],\n",
       "           dtype='int64', length=120)"
      ]
     },
     "execution_count": 14,
     "metadata": {},
     "output_type": "execute_result"
    }
   ],
   "source": [
    "to_drop"
   ]
  },
  {
   "cell_type": "code",
   "execution_count": 15,
   "id": "526bbbc6",
   "metadata": {},
   "outputs": [],
   "source": [
    "moon_phases=moon_phases.drop(to_drop)"
   ]
  },
  {
   "cell_type": "markdown",
   "id": "2aad7252",
   "metadata": {},
   "source": [
    "Dropping all the rows with value 'Date Moon Phase' since that was the header of the table from the page the data was taken from. "
   ]
  },
  {
   "cell_type": "code",
   "execution_count": 16,
   "id": "63eeacdd",
   "metadata": {},
   "outputs": [
    {
     "data": {
      "text/plain": [
       "array(['waning gibbous', 'last quarter', 'waning crescent', 'new moon',\n",
       "       'waxing crescent', 'first quarter', 'waxing gibbous', 'full moon'],\n",
       "      dtype=object)"
      ]
     },
     "execution_count": 16,
     "metadata": {},
     "output_type": "execute_result"
    }
   ],
   "source": [
    "moon_phases.phase.unique()"
   ]
  },
  {
   "cell_type": "code",
   "execution_count": 17,
   "id": "aeda965a",
   "metadata": {},
   "outputs": [
    {
     "data": {
      "text/plain": [
       "False"
      ]
     },
     "execution_count": 17,
     "metadata": {},
     "output_type": "execute_result"
    }
   ],
   "source": [
    "moon_phases.duplicated().any()"
   ]
  },
  {
   "cell_type": "markdown",
   "id": "976b7464",
   "metadata": {},
   "source": [
    "No duplicates"
   ]
  },
  {
   "cell_type": "code",
   "execution_count": 18,
   "id": "e5eb27fd",
   "metadata": {},
   "outputs": [],
   "source": [
    "moon_phases.to_csv(\"../data/clean/moon_phases_clean.csv\", index=False)\n"
   ]
  },
  {
   "cell_type": "markdown",
   "id": "f22cd1d7",
   "metadata": {},
   "source": [
    "Saving file. "
   ]
  },
  {
   "cell_type": "code",
   "execution_count": 19,
   "id": "022057b4",
   "metadata": {},
   "outputs": [
    {
     "data": {
      "text/html": [
       "<div>\n",
       "<style scoped>\n",
       "    .dataframe tbody tr th:only-of-type {\n",
       "        vertical-align: middle;\n",
       "    }\n",
       "\n",
       "    .dataframe tbody tr th {\n",
       "        vertical-align: top;\n",
       "    }\n",
       "\n",
       "    .dataframe thead th {\n",
       "        text-align: right;\n",
       "    }\n",
       "</style>\n",
       "<table border=\"1\" class=\"dataframe\">\n",
       "  <thead>\n",
       "    <tr style=\"text-align: right;\">\n",
       "      <th></th>\n",
       "      <th>0</th>\n",
       "      <th>1</th>\n",
       "      <th>2</th>\n",
       "      <th>3</th>\n",
       "      <th>4</th>\n",
       "      <th>5</th>\n",
       "      <th>6</th>\n",
       "    </tr>\n",
       "  </thead>\n",
       "  <tbody>\n",
       "    <tr>\n",
       "      <th>0</th>\n",
       "      <td>Date and time of Greatest Eclipse Eclipse Moon...</td>\n",
       "      <td>Serie Duration Chart</td>\n",
       "      <td>Impact</td>\n",
       "      <td>Chart</td>\n",
       "      <td>NaN</td>\n",
       "      <td>NaN</td>\n",
       "      <td>NaN</td>\n",
       "    </tr>\n",
       "    <tr>\n",
       "      <th>1</th>\n",
       "      <td>Tue May 10, 1994</td>\n",
       "      <td>at 17:12 Annular</td>\n",
       "      <td>Solar Eclipse</td>\n",
       "      <td>Taurus</td>\n",
       "      <td>19°51’ 128 06m13s eclipse</td>\n",
       "      <td>chart impact</td>\n",
       "      <td>chart</td>\n",
       "    </tr>\n",
       "    <tr>\n",
       "      <th>2</th>\n",
       "      <td>Wed May 25, 1994</td>\n",
       "      <td>at 03:31 Partial</td>\n",
       "      <td>Lunar Eclipse</td>\n",
       "      <td>Sagittarius</td>\n",
       "      <td>3°37’ 140 eclipse</td>\n",
       "      <td>chart impact</td>\n",
       "      <td>chart</td>\n",
       "    </tr>\n",
       "    <tr>\n",
       "      <th>3</th>\n",
       "      <td>Thu Nov 3, 1994</td>\n",
       "      <td>at 13:40 Total</td>\n",
       "      <td>Solar Eclipse</td>\n",
       "      <td>Scorpio</td>\n",
       "      <td>10°57’ 133 04m23s eclipse</td>\n",
       "      <td>chart impact</td>\n",
       "      <td>chart</td>\n",
       "    </tr>\n",
       "    <tr>\n",
       "      <th>4</th>\n",
       "      <td>Fri Nov 18, 1994</td>\n",
       "      <td>at 06:44 Penumbral</td>\n",
       "      <td>Lunar Eclipse</td>\n",
       "      <td>Taurus</td>\n",
       "      <td>25°35’ 145 eclipse</td>\n",
       "      <td>chart impact</td>\n",
       "      <td>chart</td>\n",
       "    </tr>\n",
       "  </tbody>\n",
       "</table>\n",
       "</div>"
      ],
      "text/plain": [
       "                                                   0                     1  \\\n",
       "0  Date and time of Greatest Eclipse Eclipse Moon...  Serie Duration Chart   \n",
       "1                                   Tue May 10, 1994      at 17:12 Annular   \n",
       "2                                   Wed May 25, 1994      at 03:31 Partial   \n",
       "3                                    Thu Nov 3, 1994        at 13:40 Total   \n",
       "4                                   Fri Nov 18, 1994    at 06:44 Penumbral   \n",
       "\n",
       "               2            3                          4             5      6  \n",
       "0         Impact        Chart                        NaN           NaN    NaN  \n",
       "1  Solar Eclipse       Taurus  19°51’ 128 06m13s eclipse  chart impact  chart  \n",
       "2  Lunar Eclipse  Sagittarius          3°37’ 140 eclipse  chart impact  chart  \n",
       "3  Solar Eclipse      Scorpio  10°57’ 133 04m23s eclipse  chart impact  chart  \n",
       "4  Lunar Eclipse       Taurus         25°35’ 145 eclipse  chart impact  chart  "
      ]
     },
     "execution_count": 19,
     "metadata": {},
     "output_type": "execute_result"
    }
   ],
   "source": [
    "eclipses_ori= pd.read_csv('../data/original/eclipses.csv')\n",
    "eclipses=eclipses_ori.copy()\n",
    "eclipses.head()"
   ]
  },
  {
   "cell_type": "markdown",
   "id": "4da4d076",
   "metadata": {},
   "source": [
    "Opening the file for eclipses"
   ]
  },
  {
   "cell_type": "code",
   "execution_count": 20,
   "id": "e4d8e1ea",
   "metadata": {},
   "outputs": [],
   "source": [
    "eclipses=eclipses[['0','2']]"
   ]
  },
  {
   "cell_type": "markdown",
   "id": "0db1b8e5",
   "metadata": {},
   "source": [
    "Keeping only the columns I am interested in. "
   ]
  },
  {
   "cell_type": "code",
   "execution_count": 21,
   "id": "133d8a7e",
   "metadata": {},
   "outputs": [],
   "source": [
    "eclipses=eclipses.rename(columns={'0':'fulldate','2':'eclipse'})"
   ]
  },
  {
   "cell_type": "markdown",
   "id": "b41b49db",
   "metadata": {},
   "source": [
    "Renaming the columns"
   ]
  },
  {
   "cell_type": "code",
   "execution_count": 22,
   "id": "331701d3",
   "metadata": {},
   "outputs": [],
   "source": [
    "to_drop=eclipses['eclipse'][eclipses['eclipse']=='Impact'].index"
   ]
  },
  {
   "cell_type": "code",
   "execution_count": 23,
   "id": "6112ef3d",
   "metadata": {},
   "outputs": [],
   "source": [
    "eclipses=eclipses.drop(to_drop)"
   ]
  },
  {
   "cell_type": "code",
   "execution_count": 24,
   "id": "88bbb25f",
   "metadata": {},
   "outputs": [
    {
     "data": {
      "text/html": [
       "<div>\n",
       "<style scoped>\n",
       "    .dataframe tbody tr th:only-of-type {\n",
       "        vertical-align: middle;\n",
       "    }\n",
       "\n",
       "    .dataframe tbody tr th {\n",
       "        vertical-align: top;\n",
       "    }\n",
       "\n",
       "    .dataframe thead th {\n",
       "        text-align: right;\n",
       "    }\n",
       "</style>\n",
       "<table border=\"1\" class=\"dataframe\">\n",
       "  <thead>\n",
       "    <tr style=\"text-align: right;\">\n",
       "      <th></th>\n",
       "      <th>fulldate</th>\n",
       "      <th>eclipse</th>\n",
       "    </tr>\n",
       "  </thead>\n",
       "  <tbody>\n",
       "    <tr>\n",
       "      <th>1</th>\n",
       "      <td>Tue May 10, 1994</td>\n",
       "      <td>Solar Eclipse</td>\n",
       "    </tr>\n",
       "    <tr>\n",
       "      <th>2</th>\n",
       "      <td>Wed May 25, 1994</td>\n",
       "      <td>Lunar Eclipse</td>\n",
       "    </tr>\n",
       "    <tr>\n",
       "      <th>3</th>\n",
       "      <td>Thu Nov 3, 1994</td>\n",
       "      <td>Solar Eclipse</td>\n",
       "    </tr>\n",
       "    <tr>\n",
       "      <th>4</th>\n",
       "      <td>Fri Nov 18, 1994</td>\n",
       "      <td>Lunar Eclipse</td>\n",
       "    </tr>\n",
       "    <tr>\n",
       "      <th>5</th>\n",
       "      <td>Sat Apr 15, 1995</td>\n",
       "      <td>Lunar Eclipse</td>\n",
       "    </tr>\n",
       "  </tbody>\n",
       "</table>\n",
       "</div>"
      ],
      "text/plain": [
       "           fulldate        eclipse\n",
       "1  Tue May 10, 1994  Solar Eclipse\n",
       "2  Wed May 25, 1994  Lunar Eclipse\n",
       "3   Thu Nov 3, 1994  Solar Eclipse\n",
       "4  Fri Nov 18, 1994  Lunar Eclipse\n",
       "5  Sat Apr 15, 1995  Lunar Eclipse"
      ]
     },
     "execution_count": 24,
     "metadata": {},
     "output_type": "execute_result"
    }
   ],
   "source": [
    "eclipses.head()"
   ]
  },
  {
   "cell_type": "markdown",
   "id": "3444c9c9",
   "metadata": {},
   "source": [
    "Dropping the rows where the value is 'Impact'"
   ]
  },
  {
   "cell_type": "code",
   "execution_count": 25,
   "id": "d7ba27d0",
   "metadata": {},
   "outputs": [],
   "source": [
    "eclipses['year']=eclipses['fulldate']\n",
    "eclipses['month']=eclipses['fulldate']\n",
    "eclipses['day']=eclipses['fulldate']"
   ]
  },
  {
   "cell_type": "code",
   "execution_count": 26,
   "id": "dce9108e",
   "metadata": {},
   "outputs": [],
   "source": [
    "eclipses['year'] = eclipses['year'].apply(cleaning_year_ecl)"
   ]
  },
  {
   "cell_type": "code",
   "execution_count": 27,
   "id": "15d88cdd",
   "metadata": {},
   "outputs": [],
   "source": [
    "eclipses['month'] = eclipses['month'].apply(cleaning_month_phases)"
   ]
  },
  {
   "cell_type": "code",
   "execution_count": 28,
   "id": "8b4e9c2f",
   "metadata": {},
   "outputs": [],
   "source": [
    "eclipses['day'] = eclipses['day'].apply(cleaning_day_ecl)"
   ]
  },
  {
   "cell_type": "markdown",
   "id": "46ea007c",
   "metadata": {},
   "source": [
    "Creating columns for year month and day and then calling the functions I created to clean them. "
   ]
  },
  {
   "cell_type": "code",
   "execution_count": 29,
   "id": "c3bc9c7b",
   "metadata": {},
   "outputs": [],
   "source": [
    "eclipses=eclipses.drop('fulldate', axis=1)"
   ]
  },
  {
   "cell_type": "code",
   "execution_count": 30,
   "id": "ccb0777d",
   "metadata": {},
   "outputs": [],
   "source": [
    "eclipses = eclipses[(eclipses['year'] >= 1994) & (eclipses['year'] <= 2003)]"
   ]
  },
  {
   "cell_type": "markdown",
   "id": "944b4810",
   "metadata": {},
   "source": [
    "Dropping column 'fulldate' since it is no longer necessary. Also only keeping rows where years are between 1994 and 2003, since those are the years in my other data"
   ]
  },
  {
   "cell_type": "code",
   "execution_count": 31,
   "id": "0a1c2627",
   "metadata": {},
   "outputs": [
    {
     "data": {
      "text/html": [
       "<div>\n",
       "<style scoped>\n",
       "    .dataframe tbody tr th:only-of-type {\n",
       "        vertical-align: middle;\n",
       "    }\n",
       "\n",
       "    .dataframe tbody tr th {\n",
       "        vertical-align: top;\n",
       "    }\n",
       "\n",
       "    .dataframe thead th {\n",
       "        text-align: right;\n",
       "    }\n",
       "</style>\n",
       "<table border=\"1\" class=\"dataframe\">\n",
       "  <thead>\n",
       "    <tr style=\"text-align: right;\">\n",
       "      <th></th>\n",
       "      <th>eclipse</th>\n",
       "      <th>year</th>\n",
       "      <th>month</th>\n",
       "      <th>day</th>\n",
       "    </tr>\n",
       "  </thead>\n",
       "  <tbody>\n",
       "    <tr>\n",
       "      <th>1</th>\n",
       "      <td>Solar Eclipse</td>\n",
       "      <td>1994</td>\n",
       "      <td>5</td>\n",
       "      <td>10</td>\n",
       "    </tr>\n",
       "    <tr>\n",
       "      <th>2</th>\n",
       "      <td>Lunar Eclipse</td>\n",
       "      <td>1994</td>\n",
       "      <td>5</td>\n",
       "      <td>25</td>\n",
       "    </tr>\n",
       "    <tr>\n",
       "      <th>3</th>\n",
       "      <td>Solar Eclipse</td>\n",
       "      <td>1994</td>\n",
       "      <td>11</td>\n",
       "      <td>3</td>\n",
       "    </tr>\n",
       "    <tr>\n",
       "      <th>4</th>\n",
       "      <td>Lunar Eclipse</td>\n",
       "      <td>1994</td>\n",
       "      <td>11</td>\n",
       "      <td>18</td>\n",
       "    </tr>\n",
       "    <tr>\n",
       "      <th>5</th>\n",
       "      <td>Lunar Eclipse</td>\n",
       "      <td>1995</td>\n",
       "      <td>4</td>\n",
       "      <td>15</td>\n",
       "    </tr>\n",
       "  </tbody>\n",
       "</table>\n",
       "</div>"
      ],
      "text/plain": [
       "         eclipse  year  month  day\n",
       "1  Solar Eclipse  1994      5   10\n",
       "2  Lunar Eclipse  1994      5   25\n",
       "3  Solar Eclipse  1994     11    3\n",
       "4  Lunar Eclipse  1994     11   18\n",
       "5  Lunar Eclipse  1995      4   15"
      ]
     },
     "execution_count": 31,
     "metadata": {},
     "output_type": "execute_result"
    }
   ],
   "source": [
    "eclipses.head()"
   ]
  },
  {
   "cell_type": "code",
   "execution_count": 32,
   "id": "3430d0ef",
   "metadata": {},
   "outputs": [],
   "source": [
    "eclipses.to_csv(\"../data/clean/eclipses_clean.csv\", index=False)\n"
   ]
  },
  {
   "cell_type": "markdown",
   "id": "13a68ce5",
   "metadata": {},
   "source": [
    "Saving the file"
   ]
  },
  {
   "cell_type": "code",
   "execution_count": 33,
   "id": "4d3c7091",
   "metadata": {},
   "outputs": [],
   "source": [
    "holidays = pd.DataFrame()\n",
    "\n",
    "years = range(1994, 2004)\n",
    "\n",
    "for year in years:\n",
    "    file_path = f'../data/original/public_holidays/publicholiday.US.{year}.csv' \n",
    "    \n",
    "    holidays_data = pd.read_csv(file_path)\n",
    "    \n",
    "    holidays = holidays.append(holidays_data, ignore_index=True)\n",
    "\n"
   ]
  },
  {
   "cell_type": "code",
   "execution_count": 34,
   "id": "8c6b17c6",
   "metadata": {},
   "outputs": [
    {
     "data": {
      "text/html": [
       "<div>\n",
       "<style scoped>\n",
       "    .dataframe tbody tr th:only-of-type {\n",
       "        vertical-align: middle;\n",
       "    }\n",
       "\n",
       "    .dataframe tbody tr th {\n",
       "        vertical-align: top;\n",
       "    }\n",
       "\n",
       "    .dataframe thead th {\n",
       "        text-align: right;\n",
       "    }\n",
       "</style>\n",
       "<table border=\"1\" class=\"dataframe\">\n",
       "  <thead>\n",
       "    <tr style=\"text-align: right;\">\n",
       "      <th></th>\n",
       "      <th>Date</th>\n",
       "      <th>LocalName</th>\n",
       "      <th>Name</th>\n",
       "      <th>CountryCode</th>\n",
       "      <th>Fixed</th>\n",
       "      <th>Global</th>\n",
       "      <th>LaunchYear</th>\n",
       "      <th>Type</th>\n",
       "      <th>Counties</th>\n",
       "    </tr>\n",
       "  </thead>\n",
       "  <tbody>\n",
       "    <tr>\n",
       "      <th>0</th>\n",
       "      <td>1993-12-31</td>\n",
       "      <td>New Year's Day</td>\n",
       "      <td>New Year's Day</td>\n",
       "      <td>US</td>\n",
       "      <td>False</td>\n",
       "      <td>True</td>\n",
       "      <td>NaN</td>\n",
       "      <td>Public</td>\n",
       "      <td>NaN</td>\n",
       "    </tr>\n",
       "    <tr>\n",
       "      <th>1</th>\n",
       "      <td>1994-01-17</td>\n",
       "      <td>Martin Luther King, Jr. Day</td>\n",
       "      <td>Martin Luther King, Jr. Day</td>\n",
       "      <td>US</td>\n",
       "      <td>False</td>\n",
       "      <td>True</td>\n",
       "      <td>NaN</td>\n",
       "      <td>Public</td>\n",
       "      <td>NaN</td>\n",
       "    </tr>\n",
       "    <tr>\n",
       "      <th>2</th>\n",
       "      <td>1994-02-21</td>\n",
       "      <td>Presidents Day</td>\n",
       "      <td>Washington's Birthday</td>\n",
       "      <td>US</td>\n",
       "      <td>False</td>\n",
       "      <td>True</td>\n",
       "      <td>NaN</td>\n",
       "      <td>Public</td>\n",
       "      <td>NaN</td>\n",
       "    </tr>\n",
       "    <tr>\n",
       "      <th>3</th>\n",
       "      <td>1994-04-01</td>\n",
       "      <td>Good Friday</td>\n",
       "      <td>Good Friday</td>\n",
       "      <td>US</td>\n",
       "      <td>False</td>\n",
       "      <td>False</td>\n",
       "      <td>NaN</td>\n",
       "      <td>Public</td>\n",
       "      <td>US-CT,US-DE,US-HI,US-IN,US-KY,US-LA,US-NC,US-N...</td>\n",
       "    </tr>\n",
       "    <tr>\n",
       "      <th>4</th>\n",
       "      <td>1994-04-01</td>\n",
       "      <td>Good Friday</td>\n",
       "      <td>Good Friday</td>\n",
       "      <td>US</td>\n",
       "      <td>False</td>\n",
       "      <td>False</td>\n",
       "      <td>NaN</td>\n",
       "      <td>Optional</td>\n",
       "      <td>US-TX</td>\n",
       "    </tr>\n",
       "  </tbody>\n",
       "</table>\n",
       "</div>"
      ],
      "text/plain": [
       "         Date                    LocalName                         Name  \\\n",
       "0  1993-12-31               New Year's Day               New Year's Day   \n",
       "1  1994-01-17  Martin Luther King, Jr. Day  Martin Luther King, Jr. Day   \n",
       "2  1994-02-21               Presidents Day        Washington's Birthday   \n",
       "3  1994-04-01                  Good Friday                  Good Friday   \n",
       "4  1994-04-01                  Good Friday                  Good Friday   \n",
       "\n",
       "  CountryCode  Fixed  Global  LaunchYear      Type  \\\n",
       "0          US  False    True         NaN    Public   \n",
       "1          US  False    True         NaN    Public   \n",
       "2          US  False    True         NaN    Public   \n",
       "3          US  False   False         NaN    Public   \n",
       "4          US  False   False         NaN  Optional   \n",
       "\n",
       "                                            Counties  \n",
       "0                                                NaN  \n",
       "1                                                NaN  \n",
       "2                                                NaN  \n",
       "3  US-CT,US-DE,US-HI,US-IN,US-KY,US-LA,US-NC,US-N...  \n",
       "4                                              US-TX  "
      ]
     },
     "execution_count": 34,
     "metadata": {},
     "output_type": "execute_result"
    }
   ],
   "source": [
    "holidays.head()"
   ]
  },
  {
   "cell_type": "markdown",
   "id": "521e796e",
   "metadata": {},
   "source": [
    "Combining all the files for public holidays (there is one .csv file for each year) and opening them as a dataframe."
   ]
  },
  {
   "cell_type": "code",
   "execution_count": 35,
   "id": "6fa8b68a",
   "metadata": {},
   "outputs": [],
   "source": [
    "holidays=holidays[['Date','Name']]"
   ]
  },
  {
   "cell_type": "markdown",
   "id": "6204a56a",
   "metadata": {},
   "source": [
    "Choosing only the columns I am interested in "
   ]
  },
  {
   "cell_type": "code",
   "execution_count": 36,
   "id": "05768c25",
   "metadata": {},
   "outputs": [],
   "source": [
    "holidays['year']=holidays['Date']\n",
    "holidays['month']=holidays['Date']\n",
    "holidays['day']=holidays['Date']"
   ]
  },
  {
   "cell_type": "markdown",
   "id": "e5f22122",
   "metadata": {},
   "source": [
    "Creating columns for year month and day. "
   ]
  },
  {
   "cell_type": "code",
   "execution_count": 37,
   "id": "b1d0bbc9",
   "metadata": {},
   "outputs": [],
   "source": [
    "holidays['year'] = holidays['year'].apply(cleaning_hol_year)\n",
    "holidays['month'] = holidays['month'].apply(cleaning_hol_month)\n",
    "holidays['day'] = holidays['day'].apply(cleaning_hol_day)"
   ]
  },
  {
   "cell_type": "markdown",
   "id": "472348dc",
   "metadata": {},
   "source": [
    "Cleaning my newly-created columns with the functions I created in support_cleaning.py"
   ]
  },
  {
   "cell_type": "code",
   "execution_count": 38,
   "id": "6b209bdd",
   "metadata": {},
   "outputs": [],
   "source": [
    "holidays=holidays.drop('Date', axis=1)"
   ]
  },
  {
   "cell_type": "code",
   "execution_count": 39,
   "id": "56470759",
   "metadata": {},
   "outputs": [],
   "source": [
    "holidays=holidays.rename(columns={'Name':'holiday'})"
   ]
  },
  {
   "cell_type": "markdown",
   "id": "5826e8f4",
   "metadata": {},
   "source": [
    "Dropping column 'Date' since it is no longer necessary and changing column 'Name' to 'holiday'. "
   ]
  },
  {
   "cell_type": "code",
   "execution_count": 40,
   "id": "daf2487d",
   "metadata": {},
   "outputs": [],
   "source": [
    "holidays['year'] = holidays['year'].astype(int)\n",
    "holidays['month'] = holidays['month'].astype(int)\n",
    "holidays['day'] = holidays['day'].astype(int)"
   ]
  },
  {
   "cell_type": "markdown",
   "id": "57366860",
   "metadata": {},
   "source": [
    "Changing the type of 'year', 'month' and 'day' so they appear as integers (1 instead of 01 etc.)"
   ]
  },
  {
   "cell_type": "code",
   "execution_count": 41,
   "id": "e9a8873f",
   "metadata": {},
   "outputs": [],
   "source": [
    "holidays=holidays[1:]"
   ]
  },
  {
   "cell_type": "markdown",
   "id": "b4220aac",
   "metadata": {},
   "source": [
    "Choosing from index 1 forward since index 0 is a holiday from 1993. "
   ]
  },
  {
   "cell_type": "code",
   "execution_count": 42,
   "id": "522f4d07",
   "metadata": {},
   "outputs": [
    {
     "data": {
      "text/html": [
       "<div>\n",
       "<style scoped>\n",
       "    .dataframe tbody tr th:only-of-type {\n",
       "        vertical-align: middle;\n",
       "    }\n",
       "\n",
       "    .dataframe tbody tr th {\n",
       "        vertical-align: top;\n",
       "    }\n",
       "\n",
       "    .dataframe thead th {\n",
       "        text-align: right;\n",
       "    }\n",
       "</style>\n",
       "<table border=\"1\" class=\"dataframe\">\n",
       "  <thead>\n",
       "    <tr style=\"text-align: right;\">\n",
       "      <th></th>\n",
       "      <th>holiday</th>\n",
       "      <th>year</th>\n",
       "      <th>month</th>\n",
       "      <th>day</th>\n",
       "    </tr>\n",
       "  </thead>\n",
       "  <tbody>\n",
       "    <tr>\n",
       "      <th>1</th>\n",
       "      <td>Martin Luther King, Jr. Day</td>\n",
       "      <td>1994</td>\n",
       "      <td>1</td>\n",
       "      <td>17</td>\n",
       "    </tr>\n",
       "    <tr>\n",
       "      <th>2</th>\n",
       "      <td>Washington's Birthday</td>\n",
       "      <td>1994</td>\n",
       "      <td>2</td>\n",
       "      <td>21</td>\n",
       "    </tr>\n",
       "    <tr>\n",
       "      <th>3</th>\n",
       "      <td>Good Friday</td>\n",
       "      <td>1994</td>\n",
       "      <td>4</td>\n",
       "      <td>1</td>\n",
       "    </tr>\n",
       "    <tr>\n",
       "      <th>4</th>\n",
       "      <td>Good Friday</td>\n",
       "      <td>1994</td>\n",
       "      <td>4</td>\n",
       "      <td>1</td>\n",
       "    </tr>\n",
       "    <tr>\n",
       "      <th>5</th>\n",
       "      <td>Memorial Day</td>\n",
       "      <td>1994</td>\n",
       "      <td>5</td>\n",
       "      <td>30</td>\n",
       "    </tr>\n",
       "  </tbody>\n",
       "</table>\n",
       "</div>"
      ],
      "text/plain": [
       "                       holiday  year  month  day\n",
       "1  Martin Luther King, Jr. Day  1994      1   17\n",
       "2        Washington's Birthday  1994      2   21\n",
       "3                  Good Friday  1994      4    1\n",
       "4                  Good Friday  1994      4    1\n",
       "5                 Memorial Day  1994      5   30"
      ]
     },
     "execution_count": 42,
     "metadata": {},
     "output_type": "execute_result"
    }
   ],
   "source": [
    "holidays.head()"
   ]
  },
  {
   "cell_type": "code",
   "execution_count": 43,
   "id": "7cda3690",
   "metadata": {},
   "outputs": [],
   "source": [
    "holidays.to_csv('../data/clean/holidays_clean.csv', index=False)"
   ]
  },
  {
   "cell_type": "markdown",
   "id": "a6dd5ddd",
   "metadata": {},
   "source": [
    "Saving the file "
   ]
  },
  {
   "cell_type": "code",
   "execution_count": 44,
   "id": "9a34fea3",
   "metadata": {},
   "outputs": [
    {
     "data": {
      "text/html": [
       "<div>\n",
       "<style scoped>\n",
       "    .dataframe tbody tr th:only-of-type {\n",
       "        vertical-align: middle;\n",
       "    }\n",
       "\n",
       "    .dataframe tbody tr th {\n",
       "        vertical-align: top;\n",
       "    }\n",
       "\n",
       "    .dataframe thead th {\n",
       "        text-align: right;\n",
       "    }\n",
       "</style>\n",
       "<table border=\"1\" class=\"dataframe\">\n",
       "  <thead>\n",
       "    <tr style=\"text-align: right;\">\n",
       "      <th></th>\n",
       "      <th>year</th>\n",
       "      <th>month</th>\n",
       "      <th>date_of_month</th>\n",
       "      <th>day_of_week</th>\n",
       "      <th>births</th>\n",
       "    </tr>\n",
       "  </thead>\n",
       "  <tbody>\n",
       "    <tr>\n",
       "      <th>0</th>\n",
       "      <td>1994</td>\n",
       "      <td>1</td>\n",
       "      <td>1</td>\n",
       "      <td>6</td>\n",
       "      <td>8096</td>\n",
       "    </tr>\n",
       "    <tr>\n",
       "      <th>1</th>\n",
       "      <td>1994</td>\n",
       "      <td>1</td>\n",
       "      <td>2</td>\n",
       "      <td>7</td>\n",
       "      <td>7772</td>\n",
       "    </tr>\n",
       "    <tr>\n",
       "      <th>2</th>\n",
       "      <td>1994</td>\n",
       "      <td>1</td>\n",
       "      <td>3</td>\n",
       "      <td>1</td>\n",
       "      <td>10142</td>\n",
       "    </tr>\n",
       "    <tr>\n",
       "      <th>3</th>\n",
       "      <td>1994</td>\n",
       "      <td>1</td>\n",
       "      <td>4</td>\n",
       "      <td>2</td>\n",
       "      <td>11248</td>\n",
       "    </tr>\n",
       "    <tr>\n",
       "      <th>4</th>\n",
       "      <td>1994</td>\n",
       "      <td>1</td>\n",
       "      <td>5</td>\n",
       "      <td>3</td>\n",
       "      <td>11053</td>\n",
       "    </tr>\n",
       "  </tbody>\n",
       "</table>\n",
       "</div>"
      ],
      "text/plain": [
       "   year  month  date_of_month  day_of_week  births\n",
       "0  1994      1              1            6    8096\n",
       "1  1994      1              2            7    7772\n",
       "2  1994      1              3            1   10142\n",
       "3  1994      1              4            2   11248\n",
       "4  1994      1              5            3   11053"
      ]
     },
     "execution_count": 44,
     "metadata": {},
     "output_type": "execute_result"
    }
   ],
   "source": [
    "births_ori= pd.read_csv('../data/original/US_births_1994-2003_CDC_NCHS.csv')\n",
    "births=births_ori.copy()\n",
    "births.head()"
   ]
  },
  {
   "cell_type": "markdown",
   "id": "daab005d",
   "metadata": {},
   "source": [
    "Opening the births file. "
   ]
  },
  {
   "cell_type": "code",
   "execution_count": 45,
   "id": "dcff4f08",
   "metadata": {},
   "outputs": [],
   "source": [
    "births=births.rename(columns={'date_of_month': 'day', 'day_of_week':'dow'})"
   ]
  },
  {
   "cell_type": "markdown",
   "id": "8f9b0b9a",
   "metadata": {},
   "source": [
    "Renaming the columns to make sure the names are consistent accross all files "
   ]
  },
  {
   "cell_type": "code",
   "execution_count": 46,
   "id": "eb6f3ea2",
   "metadata": {},
   "outputs": [],
   "source": [
    "births['dow']=births['dow'].apply(cleaning_dow)"
   ]
  },
  {
   "cell_type": "markdown",
   "id": "e2733fd8",
   "metadata": {},
   "source": [
    "Changing column 'dow' to calculate the name of each day of the week using a function I made in support_cleaning.py"
   ]
  },
  {
   "cell_type": "code",
   "execution_count": 47,
   "id": "04be50c7",
   "metadata": {},
   "outputs": [
    {
     "data": {
      "text/html": [
       "<div>\n",
       "<style scoped>\n",
       "    .dataframe tbody tr th:only-of-type {\n",
       "        vertical-align: middle;\n",
       "    }\n",
       "\n",
       "    .dataframe tbody tr th {\n",
       "        vertical-align: top;\n",
       "    }\n",
       "\n",
       "    .dataframe thead th {\n",
       "        text-align: right;\n",
       "    }\n",
       "</style>\n",
       "<table border=\"1\" class=\"dataframe\">\n",
       "  <thead>\n",
       "    <tr style=\"text-align: right;\">\n",
       "      <th></th>\n",
       "      <th>year</th>\n",
       "      <th>month</th>\n",
       "      <th>day</th>\n",
       "      <th>dow</th>\n",
       "      <th>births</th>\n",
       "    </tr>\n",
       "  </thead>\n",
       "  <tbody>\n",
       "    <tr>\n",
       "      <th>0</th>\n",
       "      <td>1994</td>\n",
       "      <td>1</td>\n",
       "      <td>1</td>\n",
       "      <td>Saturday</td>\n",
       "      <td>8096</td>\n",
       "    </tr>\n",
       "    <tr>\n",
       "      <th>1</th>\n",
       "      <td>1994</td>\n",
       "      <td>1</td>\n",
       "      <td>2</td>\n",
       "      <td>Sunday</td>\n",
       "      <td>7772</td>\n",
       "    </tr>\n",
       "    <tr>\n",
       "      <th>2</th>\n",
       "      <td>1994</td>\n",
       "      <td>1</td>\n",
       "      <td>3</td>\n",
       "      <td>Monday</td>\n",
       "      <td>10142</td>\n",
       "    </tr>\n",
       "    <tr>\n",
       "      <th>3</th>\n",
       "      <td>1994</td>\n",
       "      <td>1</td>\n",
       "      <td>4</td>\n",
       "      <td>Tuesday</td>\n",
       "      <td>11248</td>\n",
       "    </tr>\n",
       "    <tr>\n",
       "      <th>4</th>\n",
       "      <td>1994</td>\n",
       "      <td>1</td>\n",
       "      <td>5</td>\n",
       "      <td>Wednesday</td>\n",
       "      <td>11053</td>\n",
       "    </tr>\n",
       "  </tbody>\n",
       "</table>\n",
       "</div>"
      ],
      "text/plain": [
       "   year  month  day        dow  births\n",
       "0  1994      1    1   Saturday    8096\n",
       "1  1994      1    2     Sunday    7772\n",
       "2  1994      1    3     Monday   10142\n",
       "3  1994      1    4    Tuesday   11248\n",
       "4  1994      1    5  Wednesday   11053"
      ]
     },
     "execution_count": 47,
     "metadata": {},
     "output_type": "execute_result"
    }
   ],
   "source": [
    "births.head()"
   ]
  },
  {
   "cell_type": "code",
   "execution_count": 48,
   "id": "8a892b5e",
   "metadata": {},
   "outputs": [],
   "source": [
    "births.to_csv('../data/clean/births_clean.csv', index=False)"
   ]
  },
  {
   "cell_type": "markdown",
   "id": "86fa4453",
   "metadata": {},
   "source": [
    "Saving the file"
   ]
  },
  {
   "cell_type": "code",
   "execution_count": 49,
   "id": "a0eb0da2",
   "metadata": {},
   "outputs": [],
   "source": [
    "final = births.merge(moon_phases, on=['year', 'month', 'day'], how='outer') \\\n",
    "                    .merge(eclipses, on=['year', 'month', 'day'], how='outer') \\\n",
    "                    .merge(holidays, on=['year', 'month', 'day'], how='outer')"
   ]
  },
  {
   "cell_type": "markdown",
   "id": "42a4a2ad",
   "metadata": {},
   "source": [
    "Merged all the dataframes together. Dataframe births and moon_phases had the same amount of rows. However, dataframe eclipse and holidays had less rows. Only the days where there was an eclipse in the case of eclipses df and only the days where there was a public holiday in the case of holidays. "
   ]
  },
  {
   "cell_type": "code",
   "execution_count": 50,
   "id": "12748609",
   "metadata": {},
   "outputs": [],
   "source": [
    "for index, row in final.iterrows():\n",
    "    if pd.isna(row['eclipse']):\n",
    "        final.loc[index, 'eclipse']= final.loc[index, 'phase']"
   ]
  },
  {
   "cell_type": "markdown",
   "id": "1fd7e93a",
   "metadata": {},
   "source": [
    "Filled in the column eclipse with the value in column phase only for the nulls in column eclipse. That way I can have all the information in one column. "
   ]
  },
  {
   "cell_type": "code",
   "execution_count": 51,
   "id": "e33d9d59",
   "metadata": {},
   "outputs": [],
   "source": [
    "final=final.drop('phase', axis=1)"
   ]
  },
  {
   "cell_type": "markdown",
   "id": "ac00e680",
   "metadata": {},
   "source": [
    "Dropped column 'phase' since all the info is now in column 'eclipse'"
   ]
  },
  {
   "cell_type": "code",
   "execution_count": 52,
   "id": "8c46329d",
   "metadata": {},
   "outputs": [],
   "source": [
    "final=final.rename(columns={'eclipse':'moon_phase'})"
   ]
  },
  {
   "cell_type": "markdown",
   "id": "38814541",
   "metadata": {},
   "source": [
    "Changed the name of column 'eclipse' to 'moon_phase'"
   ]
  },
  {
   "cell_type": "code",
   "execution_count": 53,
   "id": "cb24ecca",
   "metadata": {},
   "outputs": [],
   "source": [
    "final['holiday'].fillna('Not a holiday', inplace=True)"
   ]
  },
  {
   "cell_type": "markdown",
   "id": "b4612771",
   "metadata": {},
   "source": [
    "Filled in the null values in column 'holiday' with 'Not a holiday'"
   ]
  },
  {
   "cell_type": "code",
   "execution_count": 54,
   "id": "f02a1aac",
   "metadata": {},
   "outputs": [
    {
     "data": {
      "text/html": [
       "<div>\n",
       "<style scoped>\n",
       "    .dataframe tbody tr th:only-of-type {\n",
       "        vertical-align: middle;\n",
       "    }\n",
       "\n",
       "    .dataframe tbody tr th {\n",
       "        vertical-align: top;\n",
       "    }\n",
       "\n",
       "    .dataframe thead th {\n",
       "        text-align: right;\n",
       "    }\n",
       "</style>\n",
       "<table border=\"1\" class=\"dataframe\">\n",
       "  <thead>\n",
       "    <tr style=\"text-align: right;\">\n",
       "      <th></th>\n",
       "      <th>year</th>\n",
       "      <th>month</th>\n",
       "      <th>day</th>\n",
       "      <th>dow</th>\n",
       "      <th>births</th>\n",
       "      <th>moon_phase</th>\n",
       "      <th>holiday</th>\n",
       "    </tr>\n",
       "  </thead>\n",
       "  <tbody>\n",
       "    <tr>\n",
       "      <th>0</th>\n",
       "      <td>1994</td>\n",
       "      <td>1</td>\n",
       "      <td>1</td>\n",
       "      <td>Saturday</td>\n",
       "      <td>8096</td>\n",
       "      <td>waning gibbous</td>\n",
       "      <td>Not a holiday</td>\n",
       "    </tr>\n",
       "    <tr>\n",
       "      <th>1</th>\n",
       "      <td>1994</td>\n",
       "      <td>1</td>\n",
       "      <td>2</td>\n",
       "      <td>Sunday</td>\n",
       "      <td>7772</td>\n",
       "      <td>waning gibbous</td>\n",
       "      <td>Not a holiday</td>\n",
       "    </tr>\n",
       "    <tr>\n",
       "      <th>2</th>\n",
       "      <td>1994</td>\n",
       "      <td>1</td>\n",
       "      <td>3</td>\n",
       "      <td>Monday</td>\n",
       "      <td>10142</td>\n",
       "      <td>waning gibbous</td>\n",
       "      <td>Not a holiday</td>\n",
       "    </tr>\n",
       "    <tr>\n",
       "      <th>3</th>\n",
       "      <td>1994</td>\n",
       "      <td>1</td>\n",
       "      <td>4</td>\n",
       "      <td>Tuesday</td>\n",
       "      <td>11248</td>\n",
       "      <td>last quarter</td>\n",
       "      <td>Not a holiday</td>\n",
       "    </tr>\n",
       "    <tr>\n",
       "      <th>4</th>\n",
       "      <td>1994</td>\n",
       "      <td>1</td>\n",
       "      <td>5</td>\n",
       "      <td>Wednesday</td>\n",
       "      <td>11053</td>\n",
       "      <td>last quarter</td>\n",
       "      <td>Not a holiday</td>\n",
       "    </tr>\n",
       "  </tbody>\n",
       "</table>\n",
       "</div>"
      ],
      "text/plain": [
       "   year month day        dow  births      moon_phase        holiday\n",
       "0  1994     1   1   Saturday    8096  waning gibbous  Not a holiday\n",
       "1  1994     1   2     Sunday    7772  waning gibbous  Not a holiday\n",
       "2  1994     1   3     Monday   10142  waning gibbous  Not a holiday\n",
       "3  1994     1   4    Tuesday   11248    last quarter  Not a holiday\n",
       "4  1994     1   5  Wednesday   11053    last quarter  Not a holiday"
      ]
     },
     "execution_count": 54,
     "metadata": {},
     "output_type": "execute_result"
    }
   ],
   "source": [
    "final.head()"
   ]
  },
  {
   "cell_type": "code",
   "execution_count": 55,
   "id": "a49a230d",
   "metadata": {},
   "outputs": [
    {
     "name": "stdout",
     "output_type": "stream",
     "text": [
      "<class 'pandas.core.frame.DataFrame'>\n",
      "Int64Index: 3662 entries, 0 to 3661\n",
      "Data columns (total 7 columns):\n",
      " #   Column      Non-Null Count  Dtype \n",
      "---  ------      --------------  ----- \n",
      " 0   year        3662 non-null   int64 \n",
      " 1   month       3662 non-null   object\n",
      " 2   day         3662 non-null   object\n",
      " 3   dow         3662 non-null   object\n",
      " 4   births      3662 non-null   int64 \n",
      " 5   moon_phase  3662 non-null   object\n",
      " 6   holiday     3662 non-null   object\n",
      "dtypes: int64(2), object(5)\n",
      "memory usage: 357.9+ KB\n"
     ]
    }
   ],
   "source": [
    "final.info()"
   ]
  },
  {
   "cell_type": "code",
   "execution_count": 56,
   "id": "2f6a78a8",
   "metadata": {},
   "outputs": [],
   "source": [
    "final['month']=final['month'].astype('int')\n",
    "final['day']=final['day'].astype('int')\n"
   ]
  },
  {
   "cell_type": "code",
   "execution_count": 57,
   "id": "044462a9",
   "metadata": {},
   "outputs": [],
   "source": [
    "convert_object_to_category(final)"
   ]
  },
  {
   "cell_type": "code",
   "execution_count": 58,
   "id": "40fdc0fb",
   "metadata": {},
   "outputs": [],
   "source": [
    "downcast_int(final)"
   ]
  },
  {
   "cell_type": "code",
   "execution_count": 59,
   "id": "ec721cd6",
   "metadata": {},
   "outputs": [
    {
     "name": "stdout",
     "output_type": "stream",
     "text": [
      "<class 'pandas.core.frame.DataFrame'>\n",
      "Int64Index: 3662 entries, 0 to 3661\n",
      "Data columns (total 7 columns):\n",
      " #   Column      Non-Null Count  Dtype   \n",
      "---  ------      --------------  -----   \n",
      " 0   year        3662 non-null   int16   \n",
      " 1   month       3662 non-null   int8    \n",
      " 2   day         3662 non-null   int8    \n",
      " 3   dow         3662 non-null   category\n",
      " 4   births      3662 non-null   int16   \n",
      " 5   moon_phase  3662 non-null   category\n",
      " 6   holiday     3662 non-null   category\n",
      "dtypes: category(3), int16(2), int8(2)\n",
      "memory usage: 190.9 KB\n"
     ]
    }
   ],
   "source": [
    "final.info()"
   ]
  },
  {
   "cell_type": "markdown",
   "id": "1566ecb1",
   "metadata": {},
   "source": [
    "Changed 'month' and 'day' to integers. Changed 'dow', 'moon_phase' and 'holiday' to category type and downcasted all integers. "
   ]
  },
  {
   "cell_type": "code",
   "execution_count": 62,
   "id": "987cc2d1",
   "metadata": {},
   "outputs": [],
   "source": [
    "final.to_csv('../data/clean/final_clean.csv', index=False)"
   ]
  },
  {
   "cell_type": "markdown",
   "id": "62bab3e0",
   "metadata": {},
   "source": [
    "Saved file"
   ]
  }
 ],
 "metadata": {
  "kernelspec": {
   "display_name": "Python 3 (ipykernel)",
   "language": "python",
   "name": "python3"
  },
  "language_info": {
   "codemirror_mode": {
    "name": "ipython",
    "version": 3
   },
   "file_extension": ".py",
   "mimetype": "text/x-python",
   "name": "python",
   "nbconvert_exporter": "python",
   "pygments_lexer": "ipython3",
   "version": "3.11.4"
  }
 },
 "nbformat": 4,
 "nbformat_minor": 5
}
