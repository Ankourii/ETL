{
 "cells": [
  {
   "cell_type": "code",
   "execution_count": 1,
   "id": "1cdff3c4",
   "metadata": {},
   "outputs": [],
   "source": [
    "import pandas as pd\n",
    "pd.set_option('display.max_columns', None)\n",
    "pd.set_option('display.max_rows', None)\n",
    "import re\n",
    "import sys\n",
    "sys.path.append('../src')\n",
    "\n",
    "from support_cleaning import *\n"
   ]
  },
  {
   "cell_type": "markdown",
   "id": "da109648",
   "metadata": {},
   "source": [
    "Importing all necessary modules and libraries including the ones I created in support_cleaning.py\n",
    "Changing the display settings for rows and columns in pandas to improve visibility. "
   ]
  },
  {
   "cell_type": "code",
   "execution_count": 2,
   "id": "e91aec74",
   "metadata": {},
   "outputs": [],
   "source": [
    "moon_phases_ori= pd.read_csv('../data/original/moon_phases.csv')\n",
    "moon_phases=moon_phases_ori.copy()"
   ]
  },
  {
   "cell_type": "markdown",
   "id": "4e7153b6",
   "metadata": {},
   "source": [
    "Opening the moon_phases file and creating a copy "
   ]
  },
  {
   "cell_type": "code",
   "execution_count": 3,
   "id": "54c35519",
   "metadata": {},
   "outputs": [
    {
     "data": {
      "text/html": [
       "<div>\n",
       "<style scoped>\n",
       "    .dataframe tbody tr th:only-of-type {\n",
       "        vertical-align: middle;\n",
       "    }\n",
       "\n",
       "    .dataframe tbody tr th {\n",
       "        vertical-align: top;\n",
       "    }\n",
       "\n",
       "    .dataframe thead th {\n",
       "        text-align: right;\n",
       "    }\n",
       "</style>\n",
       "<table border=\"1\" class=\"dataframe\">\n",
       "  <thead>\n",
       "    <tr style=\"text-align: right;\">\n",
       "      <th></th>\n",
       "      <th>year</th>\n",
       "      <th>1</th>\n",
       "    </tr>\n",
       "  </thead>\n",
       "  <tbody>\n",
       "    <tr>\n",
       "      <th>0</th>\n",
       "      <td>1994</td>\n",
       "      <td>Date Moon Phase</td>\n",
       "    </tr>\n",
       "    <tr>\n",
       "      <th>1</th>\n",
       "      <td>1994</td>\n",
       "      <td>Sat Jan 1 Waning Gibbous Leo</td>\n",
       "    </tr>\n",
       "    <tr>\n",
       "      <th>2</th>\n",
       "      <td>1994</td>\n",
       "      <td>Sun Jan 2 Waning Gibbous Virgo Pancreas, small...</td>\n",
       "    </tr>\n",
       "    <tr>\n",
       "      <th>3</th>\n",
       "      <td>1994</td>\n",
       "      <td>Mon Jan 3 Waning Gibbous Virgo</td>\n",
       "    </tr>\n",
       "    <tr>\n",
       "      <th>4</th>\n",
       "      <td>1994</td>\n",
       "      <td>Tue Jan 4 Last Quarter</td>\n",
       "    </tr>\n",
       "  </tbody>\n",
       "</table>\n",
       "</div>"
      ],
      "text/plain": [
       "   year                                                  1\n",
       "0  1994                                    Date Moon Phase\n",
       "1  1994                       Sat Jan 1 Waning Gibbous Leo\n",
       "2  1994  Sun Jan 2 Waning Gibbous Virgo Pancreas, small...\n",
       "3  1994                     Mon Jan 3 Waning Gibbous Virgo\n",
       "4  1994                             Tue Jan 4 Last Quarter"
      ]
     },
     "execution_count": 3,
     "metadata": {},
     "output_type": "execute_result"
    }
   ],
   "source": [
    "moon_phases = moon_phases.rename(columns={'0': 'year'})\n",
    "moon_phases.head()"
   ]
  },
  {
   "cell_type": "markdown",
   "id": "a3755654",
   "metadata": {},
   "source": [
    "Renaming column with years as 'year'"
   ]
  },
  {
   "cell_type": "code",
   "execution_count": 4,
   "id": "1c88c000",
   "metadata": {},
   "outputs": [],
   "source": [
    "moon_phases['month']=moon_phases['1']"
   ]
  },
  {
   "cell_type": "code",
   "execution_count": 5,
   "id": "d8d3df56",
   "metadata": {},
   "outputs": [],
   "source": [
    "moon_phases['day']=moon_phases['1']"
   ]
  },
  {
   "cell_type": "code",
   "execution_count": 6,
   "id": "a0d5efc7",
   "metadata": {},
   "outputs": [],
   "source": [
    "moon_phases['phase']=moon_phases['1']"
   ]
  },
  {
   "cell_type": "markdown",
   "id": "c531810b",
   "metadata": {},
   "source": [
    "I want to create a column for month, a column for day and a column for phase so for now i am creating them with the values in column 1 since I will need to use those to calculate the values for my new columns. "
   ]
  },
  {
   "cell_type": "code",
   "execution_count": 7,
   "id": "e4f23017",
   "metadata": {},
   "outputs": [
    {
     "data": {
      "text/html": [
       "<div>\n",
       "<style scoped>\n",
       "    .dataframe tbody tr th:only-of-type {\n",
       "        vertical-align: middle;\n",
       "    }\n",
       "\n",
       "    .dataframe tbody tr th {\n",
       "        vertical-align: top;\n",
       "    }\n",
       "\n",
       "    .dataframe thead th {\n",
       "        text-align: right;\n",
       "    }\n",
       "</style>\n",
       "<table border=\"1\" class=\"dataframe\">\n",
       "  <thead>\n",
       "    <tr style=\"text-align: right;\">\n",
       "      <th></th>\n",
       "      <th>year</th>\n",
       "      <th>1</th>\n",
       "      <th>month</th>\n",
       "      <th>day</th>\n",
       "      <th>phase</th>\n",
       "    </tr>\n",
       "  </thead>\n",
       "  <tbody>\n",
       "    <tr>\n",
       "      <th>0</th>\n",
       "      <td>1994</td>\n",
       "      <td>Date Moon Phase</td>\n",
       "      <td>Date Moon Phase</td>\n",
       "      <td>Date Moon Phase</td>\n",
       "      <td>Date Moon Phase</td>\n",
       "    </tr>\n",
       "    <tr>\n",
       "      <th>1</th>\n",
       "      <td>1994</td>\n",
       "      <td>Sat Jan 1 Waning Gibbous Leo</td>\n",
       "      <td>Sat Jan 1 Waning Gibbous Leo</td>\n",
       "      <td>Sat Jan 1 Waning Gibbous Leo</td>\n",
       "      <td>Sat Jan 1 Waning Gibbous Leo</td>\n",
       "    </tr>\n",
       "    <tr>\n",
       "      <th>2</th>\n",
       "      <td>1994</td>\n",
       "      <td>Sun Jan 2 Waning Gibbous Virgo Pancreas, small...</td>\n",
       "      <td>Sun Jan 2 Waning Gibbous Virgo Pancreas, small...</td>\n",
       "      <td>Sun Jan 2 Waning Gibbous Virgo Pancreas, small...</td>\n",
       "      <td>Sun Jan 2 Waning Gibbous Virgo Pancreas, small...</td>\n",
       "    </tr>\n",
       "    <tr>\n",
       "      <th>3</th>\n",
       "      <td>1994</td>\n",
       "      <td>Mon Jan 3 Waning Gibbous Virgo</td>\n",
       "      <td>Mon Jan 3 Waning Gibbous Virgo</td>\n",
       "      <td>Mon Jan 3 Waning Gibbous Virgo</td>\n",
       "      <td>Mon Jan 3 Waning Gibbous Virgo</td>\n",
       "    </tr>\n",
       "    <tr>\n",
       "      <th>4</th>\n",
       "      <td>1994</td>\n",
       "      <td>Tue Jan 4 Last Quarter</td>\n",
       "      <td>Tue Jan 4 Last Quarter</td>\n",
       "      <td>Tue Jan 4 Last Quarter</td>\n",
       "      <td>Tue Jan 4 Last Quarter</td>\n",
       "    </tr>\n",
       "  </tbody>\n",
       "</table>\n",
       "</div>"
      ],
      "text/plain": [
       "   year                                                  1  \\\n",
       "0  1994                                    Date Moon Phase   \n",
       "1  1994                       Sat Jan 1 Waning Gibbous Leo   \n",
       "2  1994  Sun Jan 2 Waning Gibbous Virgo Pancreas, small...   \n",
       "3  1994                     Mon Jan 3 Waning Gibbous Virgo   \n",
       "4  1994                             Tue Jan 4 Last Quarter   \n",
       "\n",
       "                                               month  \\\n",
       "0                                    Date Moon Phase   \n",
       "1                       Sat Jan 1 Waning Gibbous Leo   \n",
       "2  Sun Jan 2 Waning Gibbous Virgo Pancreas, small...   \n",
       "3                     Mon Jan 3 Waning Gibbous Virgo   \n",
       "4                             Tue Jan 4 Last Quarter   \n",
       "\n",
       "                                                 day  \\\n",
       "0                                    Date Moon Phase   \n",
       "1                       Sat Jan 1 Waning Gibbous Leo   \n",
       "2  Sun Jan 2 Waning Gibbous Virgo Pancreas, small...   \n",
       "3                     Mon Jan 3 Waning Gibbous Virgo   \n",
       "4                             Tue Jan 4 Last Quarter   \n",
       "\n",
       "                                               phase  \n",
       "0                                    Date Moon Phase  \n",
       "1                       Sat Jan 1 Waning Gibbous Leo  \n",
       "2  Sun Jan 2 Waning Gibbous Virgo Pancreas, small...  \n",
       "3                     Mon Jan 3 Waning Gibbous Virgo  \n",
       "4                             Tue Jan 4 Last Quarter  "
      ]
     },
     "execution_count": 7,
     "metadata": {},
     "output_type": "execute_result"
    }
   ],
   "source": [
    "moon_phases.head()"
   ]
  },
  {
   "cell_type": "code",
   "execution_count": 8,
   "id": "b93f371c",
   "metadata": {},
   "outputs": [],
   "source": [
    "moon_phases['month'] = moon_phases['month'].apply(cleaning_month_phases)"
   ]
  },
  {
   "cell_type": "code",
   "execution_count": 9,
   "id": "60c6d597",
   "metadata": {},
   "outputs": [],
   "source": [
    "moon_phases['day'] = moon_phases['day'].apply(cleaning_day)"
   ]
  },
  {
   "cell_type": "code",
   "execution_count": 10,
   "id": "cb572abb",
   "metadata": {},
   "outputs": [],
   "source": [
    "moon_phases['phase'] = moon_phases['phase'].apply(cleaning_phase)"
   ]
  },
  {
   "cell_type": "markdown",
   "id": "727cac4e",
   "metadata": {},
   "source": [
    "I created functions cleaning_month_phases, cleaning_day and cleaning_phase (you can find them in src/support_cleaning.py  \n",
    "I am calling them here to calculate the month for column 'month', the day for column 'day' and the moon phase for column 'phase'"
   ]
  },
  {
   "cell_type": "code",
   "execution_count": 11,
   "id": "37a45bc8",
   "metadata": {},
   "outputs": [],
   "source": [
    "moon_phases = moon_phases.drop('1', axis=1)\n"
   ]
  },
  {
   "cell_type": "markdown",
   "id": "a3762e71",
   "metadata": {},
   "source": [
    "Dropping column '1' since all the info in it is already in my df. "
   ]
  },
  {
   "cell_type": "code",
   "execution_count": 12,
   "id": "70d077da",
   "metadata": {},
   "outputs": [
    {
     "data": {
      "text/html": [
       "<div>\n",
       "<style scoped>\n",
       "    .dataframe tbody tr th:only-of-type {\n",
       "        vertical-align: middle;\n",
       "    }\n",
       "\n",
       "    .dataframe tbody tr th {\n",
       "        vertical-align: top;\n",
       "    }\n",
       "\n",
       "    .dataframe thead th {\n",
       "        text-align: right;\n",
       "    }\n",
       "</style>\n",
       "<table border=\"1\" class=\"dataframe\">\n",
       "  <thead>\n",
       "    <tr style=\"text-align: right;\">\n",
       "      <th></th>\n",
       "      <th>year</th>\n",
       "      <th>month</th>\n",
       "      <th>day</th>\n",
       "      <th>phase</th>\n",
       "    </tr>\n",
       "  </thead>\n",
       "  <tbody>\n",
       "    <tr>\n",
       "      <th>0</th>\n",
       "      <td>1994</td>\n",
       "      <td>Date Moon Phase</td>\n",
       "      <td>Date Moon Phase</td>\n",
       "      <td>Date Moon Phase</td>\n",
       "    </tr>\n",
       "    <tr>\n",
       "      <th>1</th>\n",
       "      <td>1994</td>\n",
       "      <td>1</td>\n",
       "      <td>1</td>\n",
       "      <td>waning gibbous</td>\n",
       "    </tr>\n",
       "    <tr>\n",
       "      <th>2</th>\n",
       "      <td>1994</td>\n",
       "      <td>1</td>\n",
       "      <td>2</td>\n",
       "      <td>waning gibbous</td>\n",
       "    </tr>\n",
       "    <tr>\n",
       "      <th>3</th>\n",
       "      <td>1994</td>\n",
       "      <td>1</td>\n",
       "      <td>3</td>\n",
       "      <td>waning gibbous</td>\n",
       "    </tr>\n",
       "    <tr>\n",
       "      <th>4</th>\n",
       "      <td>1994</td>\n",
       "      <td>1</td>\n",
       "      <td>4</td>\n",
       "      <td>last quarter</td>\n",
       "    </tr>\n",
       "  </tbody>\n",
       "</table>\n",
       "</div>"
      ],
      "text/plain": [
       "   year            month              day            phase\n",
       "0  1994  Date Moon Phase  Date Moon Phase  Date Moon Phase\n",
       "1  1994                1                1   waning gibbous\n",
       "2  1994                1                2   waning gibbous\n",
       "3  1994                1                3   waning gibbous\n",
       "4  1994                1                4     last quarter"
      ]
     },
     "execution_count": 12,
     "metadata": {},
     "output_type": "execute_result"
    }
   ],
   "source": [
    "moon_phases.head()"
   ]
  },
  {
   "cell_type": "code",
   "execution_count": 13,
   "id": "50501752",
   "metadata": {},
   "outputs": [],
   "source": [
    "to_drop=moon_phases['month'][moon_phases['month']=='Date Moon Phase'].index"
   ]
  },
  {
   "cell_type": "code",
   "execution_count": 14,
   "id": "cac51107",
   "metadata": {},
   "outputs": [
    {
     "data": {
      "text/plain": [
       "Int64Index([   0,   32,   61,   93,  124,  156,  187,  219,  251,  282,\n",
       "            ...\n",
       "            3456, 3488, 3519, 3551, 3582, 3614, 3646, 3677, 3709, 3740],\n",
       "           dtype='int64', length=120)"
      ]
     },
     "execution_count": 14,
     "metadata": {},
     "output_type": "execute_result"
    }
   ],
   "source": [
    "to_drop"
   ]
  },
  {
   "cell_type": "code",
   "execution_count": 15,
   "id": "526bbbc6",
   "metadata": {},
   "outputs": [],
   "source": [
    "moon_phases=moon_phases.drop(to_drop)"
   ]
  },
  {
   "cell_type": "markdown",
   "id": "5d4f8cf2",
   "metadata": {},
   "source": [
    "Dropping all the rows with value 'Date Moon Phase' since that was the header of the table from the page the data was taken from. "
   ]
  },
  {
   "cell_type": "code",
   "execution_count": 16,
   "id": "63eeacdd",
   "metadata": {},
   "outputs": [
    {
     "data": {
      "text/plain": [
       "array(['waning gibbous', 'last quarter', 'waning crescent', 'new moon',\n",
       "       'waxing crescent', 'first quarter', 'waxing gibbous', 'full moon'],\n",
       "      dtype=object)"
      ]
     },
     "execution_count": 16,
     "metadata": {},
     "output_type": "execute_result"
    }
   ],
   "source": [
    "moon_phases.phase.unique()"
   ]
  },
  {
   "cell_type": "code",
   "execution_count": 17,
   "id": "aeda965a",
   "metadata": {},
   "outputs": [
    {
     "data": {
      "text/plain": [
       "False"
      ]
     },
     "execution_count": 17,
     "metadata": {},
     "output_type": "execute_result"
    }
   ],
   "source": [
    "moon_phases.duplicated().any()"
   ]
  },
  {
   "cell_type": "markdown",
   "id": "58be260e",
   "metadata": {},
   "source": [
    "No duplicates"
   ]
  },
  {
   "cell_type": "code",
   "execution_count": 18,
   "id": "e5eb27fd",
   "metadata": {},
   "outputs": [],
   "source": [
    "moon_phases.to_csv(\"../data/clean/moon_phases_clean.csv\", index=False)\n"
   ]
  },
  {
   "cell_type": "markdown",
   "id": "01571f3f",
   "metadata": {},
   "source": [
    "Saving file. "
   ]
  },
  {
   "cell_type": "code",
   "execution_count": 44,
   "id": "022057b4",
   "metadata": {},
   "outputs": [
    {
     "data": {
      "text/html": [
       "<div>\n",
       "<style scoped>\n",
       "    .dataframe tbody tr th:only-of-type {\n",
       "        vertical-align: middle;\n",
       "    }\n",
       "\n",
       "    .dataframe tbody tr th {\n",
       "        vertical-align: top;\n",
       "    }\n",
       "\n",
       "    .dataframe thead th {\n",
       "        text-align: right;\n",
       "    }\n",
       "</style>\n",
       "<table border=\"1\" class=\"dataframe\">\n",
       "  <thead>\n",
       "    <tr style=\"text-align: right;\">\n",
       "      <th></th>\n",
       "      <th>0</th>\n",
       "      <th>1</th>\n",
       "      <th>2</th>\n",
       "      <th>3</th>\n",
       "      <th>4</th>\n",
       "      <th>5</th>\n",
       "      <th>6</th>\n",
       "    </tr>\n",
       "  </thead>\n",
       "  <tbody>\n",
       "    <tr>\n",
       "      <th>0</th>\n",
       "      <td>Date and time of Greatest Eclipse Eclipse Moon...</td>\n",
       "      <td>Serie Duration Chart</td>\n",
       "      <td>Impact</td>\n",
       "      <td>Chart</td>\n",
       "      <td>NaN</td>\n",
       "      <td>NaN</td>\n",
       "      <td>NaN</td>\n",
       "    </tr>\n",
       "    <tr>\n",
       "      <th>1</th>\n",
       "      <td>Tue May 10, 1994</td>\n",
       "      <td>at 17:12 Annular</td>\n",
       "      <td>Solar Eclipse</td>\n",
       "      <td>Taurus</td>\n",
       "      <td>19°51’ 128 06m13s eclipse</td>\n",
       "      <td>chart impact</td>\n",
       "      <td>chart</td>\n",
       "    </tr>\n",
       "    <tr>\n",
       "      <th>2</th>\n",
       "      <td>Wed May 25, 1994</td>\n",
       "      <td>at 03:31 Partial</td>\n",
       "      <td>Lunar Eclipse</td>\n",
       "      <td>Sagittarius</td>\n",
       "      <td>3°37’ 140 eclipse</td>\n",
       "      <td>chart impact</td>\n",
       "      <td>chart</td>\n",
       "    </tr>\n",
       "    <tr>\n",
       "      <th>3</th>\n",
       "      <td>Thu Nov 3, 1994</td>\n",
       "      <td>at 13:40 Total</td>\n",
       "      <td>Solar Eclipse</td>\n",
       "      <td>Scorpio</td>\n",
       "      <td>10°57’ 133 04m23s eclipse</td>\n",
       "      <td>chart impact</td>\n",
       "      <td>chart</td>\n",
       "    </tr>\n",
       "    <tr>\n",
       "      <th>4</th>\n",
       "      <td>Fri Nov 18, 1994</td>\n",
       "      <td>at 06:44 Penumbral</td>\n",
       "      <td>Lunar Eclipse</td>\n",
       "      <td>Taurus</td>\n",
       "      <td>25°35’ 145 eclipse</td>\n",
       "      <td>chart impact</td>\n",
       "      <td>chart</td>\n",
       "    </tr>\n",
       "  </tbody>\n",
       "</table>\n",
       "</div>"
      ],
      "text/plain": [
       "                                                   0                     1  \\\n",
       "0  Date and time of Greatest Eclipse Eclipse Moon...  Serie Duration Chart   \n",
       "1                                   Tue May 10, 1994      at 17:12 Annular   \n",
       "2                                   Wed May 25, 1994      at 03:31 Partial   \n",
       "3                                    Thu Nov 3, 1994        at 13:40 Total   \n",
       "4                                   Fri Nov 18, 1994    at 06:44 Penumbral   \n",
       "\n",
       "               2            3                          4             5      6  \n",
       "0         Impact        Chart                        NaN           NaN    NaN  \n",
       "1  Solar Eclipse       Taurus  19°51’ 128 06m13s eclipse  chart impact  chart  \n",
       "2  Lunar Eclipse  Sagittarius          3°37’ 140 eclipse  chart impact  chart  \n",
       "3  Solar Eclipse      Scorpio  10°57’ 133 04m23s eclipse  chart impact  chart  \n",
       "4  Lunar Eclipse       Taurus         25°35’ 145 eclipse  chart impact  chart  "
      ]
     },
     "execution_count": 44,
     "metadata": {},
     "output_type": "execute_result"
    }
   ],
   "source": [
    "eclipses_ori= pd.read_csv('../data/original/eclipses.csv')\n",
    "eclipses=eclipses_ori.copy()\n",
    "eclipses.head()"
   ]
  },
  {
   "cell_type": "markdown",
   "id": "c0819e46",
   "metadata": {},
   "source": [
    "Opening the file for eclipses"
   ]
  },
  {
   "cell_type": "code",
   "execution_count": 20,
   "id": "e4d8e1ea",
   "metadata": {},
   "outputs": [],
   "source": [
    "eclipses=eclipses[['0','2']]"
   ]
  },
  {
   "cell_type": "markdown",
   "id": "89c1477b",
   "metadata": {},
   "source": [
    "Keeping only the columns I am interested in. "
   ]
  },
  {
   "cell_type": "code",
   "execution_count": 21,
   "id": "133d8a7e",
   "metadata": {},
   "outputs": [],
   "source": [
    "eclipses=eclipses.rename(columns={'0':'fulldate','2':'eclipse'})"
   ]
  },
  {
   "cell_type": "markdown",
   "id": "583f7d4d",
   "metadata": {},
   "source": [
    "Renaming the columns"
   ]
  },
  {
   "cell_type": "code",
   "execution_count": 22,
   "id": "331701d3",
   "metadata": {},
   "outputs": [],
   "source": [
    "to_drop=eclipses['eclipse'][eclipses['eclipse']=='Impact'].index"
   ]
  },
  {
   "cell_type": "code",
   "execution_count": 23,
   "id": "6112ef3d",
   "metadata": {},
   "outputs": [],
   "source": [
    "eclipses=eclipses.drop(to_drop)"
   ]
  },
  {
   "cell_type": "code",
   "execution_count": 24,
   "id": "88bbb25f",
   "metadata": {},
   "outputs": [
    {
     "data": {
      "text/html": [
       "<div>\n",
       "<style scoped>\n",
       "    .dataframe tbody tr th:only-of-type {\n",
       "        vertical-align: middle;\n",
       "    }\n",
       "\n",
       "    .dataframe tbody tr th {\n",
       "        vertical-align: top;\n",
       "    }\n",
       "\n",
       "    .dataframe thead th {\n",
       "        text-align: right;\n",
       "    }\n",
       "</style>\n",
       "<table border=\"1\" class=\"dataframe\">\n",
       "  <thead>\n",
       "    <tr style=\"text-align: right;\">\n",
       "      <th></th>\n",
       "      <th>fulldate</th>\n",
       "      <th>eclipse</th>\n",
       "    </tr>\n",
       "  </thead>\n",
       "  <tbody>\n",
       "    <tr>\n",
       "      <th>1</th>\n",
       "      <td>Tue May 10, 1994</td>\n",
       "      <td>Solar Eclipse</td>\n",
       "    </tr>\n",
       "    <tr>\n",
       "      <th>2</th>\n",
       "      <td>Wed May 25, 1994</td>\n",
       "      <td>Lunar Eclipse</td>\n",
       "    </tr>\n",
       "    <tr>\n",
       "      <th>3</th>\n",
       "      <td>Thu Nov 3, 1994</td>\n",
       "      <td>Solar Eclipse</td>\n",
       "    </tr>\n",
       "    <tr>\n",
       "      <th>4</th>\n",
       "      <td>Fri Nov 18, 1994</td>\n",
       "      <td>Lunar Eclipse</td>\n",
       "    </tr>\n",
       "    <tr>\n",
       "      <th>5</th>\n",
       "      <td>Sat Apr 15, 1995</td>\n",
       "      <td>Lunar Eclipse</td>\n",
       "    </tr>\n",
       "  </tbody>\n",
       "</table>\n",
       "</div>"
      ],
      "text/plain": [
       "           fulldate        eclipse\n",
       "1  Tue May 10, 1994  Solar Eclipse\n",
       "2  Wed May 25, 1994  Lunar Eclipse\n",
       "3   Thu Nov 3, 1994  Solar Eclipse\n",
       "4  Fri Nov 18, 1994  Lunar Eclipse\n",
       "5  Sat Apr 15, 1995  Lunar Eclipse"
      ]
     },
     "execution_count": 24,
     "metadata": {},
     "output_type": "execute_result"
    }
   ],
   "source": [
    "eclipses.head()"
   ]
  },
  {
   "cell_type": "markdown",
   "id": "19c84ca8",
   "metadata": {},
   "source": [
    "Dropping the rows where the value is 'Impact'"
   ]
  },
  {
   "cell_type": "code",
   "execution_count": 25,
   "id": "d7ba27d0",
   "metadata": {},
   "outputs": [],
   "source": [
    "eclipses['year']=eclipses['fulldate']\n",
    "eclipses['month']=eclipses['fulldate']\n",
    "eclipses['day']=eclipses['fulldate']"
   ]
  },
  {
   "cell_type": "code",
   "execution_count": 26,
   "id": "dce9108e",
   "metadata": {},
   "outputs": [],
   "source": [
    "eclipses['year'] = eclipses['year'].apply(cleaning_year_ecl)"
   ]
  },
  {
   "cell_type": "code",
   "execution_count": 27,
   "id": "15d88cdd",
   "metadata": {},
   "outputs": [],
   "source": [
    "eclipses['month'] = eclipses['month'].apply(cleaning_month_phases)"
   ]
  },
  {
   "cell_type": "code",
   "execution_count": 28,
   "id": "8b4e9c2f",
   "metadata": {},
   "outputs": [],
   "source": [
    "eclipses['day'] = eclipses['day'].apply(cleaning_day_ecl)"
   ]
  },
  {
   "cell_type": "markdown",
   "id": "b77e6b9f",
   "metadata": {},
   "source": [
    "Creating columns for year month and day and then calling the functions I created to clean them. "
   ]
  },
  {
   "cell_type": "code",
   "execution_count": 29,
   "id": "c3bc9c7b",
   "metadata": {},
   "outputs": [],
   "source": [
    "eclipses=eclipses.drop('fulldate', axis=1)"
   ]
  },
  {
   "cell_type": "code",
   "execution_count": 30,
   "id": "ccb0777d",
   "metadata": {},
   "outputs": [],
   "source": [
    "eclipses = eclipses[(eclipses['year'] >= 1994) & (eclipses['year'] <= 2003)]"
   ]
  },
  {
   "cell_type": "markdown",
   "id": "9fc87972",
   "metadata": {},
   "source": [
    "Dropping column 'fulldate' since it is no longer necessary. Also only keeping rows where years are between 1994 and 2003, since those are the years in my other data"
   ]
  },
  {
   "cell_type": "code",
   "execution_count": 31,
   "id": "0a1c2627",
   "metadata": {},
   "outputs": [
    {
     "data": {
      "text/html": [
       "<div>\n",
       "<style scoped>\n",
       "    .dataframe tbody tr th:only-of-type {\n",
       "        vertical-align: middle;\n",
       "    }\n",
       "\n",
       "    .dataframe tbody tr th {\n",
       "        vertical-align: top;\n",
       "    }\n",
       "\n",
       "    .dataframe thead th {\n",
       "        text-align: right;\n",
       "    }\n",
       "</style>\n",
       "<table border=\"1\" class=\"dataframe\">\n",
       "  <thead>\n",
       "    <tr style=\"text-align: right;\">\n",
       "      <th></th>\n",
       "      <th>eclipse</th>\n",
       "      <th>year</th>\n",
       "      <th>month</th>\n",
       "      <th>day</th>\n",
       "    </tr>\n",
       "  </thead>\n",
       "  <tbody>\n",
       "    <tr>\n",
       "      <th>1</th>\n",
       "      <td>Solar Eclipse</td>\n",
       "      <td>1994</td>\n",
       "      <td>5</td>\n",
       "      <td>10</td>\n",
       "    </tr>\n",
       "    <tr>\n",
       "      <th>2</th>\n",
       "      <td>Lunar Eclipse</td>\n",
       "      <td>1994</td>\n",
       "      <td>5</td>\n",
       "      <td>25</td>\n",
       "    </tr>\n",
       "    <tr>\n",
       "      <th>3</th>\n",
       "      <td>Solar Eclipse</td>\n",
       "      <td>1994</td>\n",
       "      <td>11</td>\n",
       "      <td>3</td>\n",
       "    </tr>\n",
       "    <tr>\n",
       "      <th>4</th>\n",
       "      <td>Lunar Eclipse</td>\n",
       "      <td>1994</td>\n",
       "      <td>11</td>\n",
       "      <td>18</td>\n",
       "    </tr>\n",
       "    <tr>\n",
       "      <th>5</th>\n",
       "      <td>Lunar Eclipse</td>\n",
       "      <td>1995</td>\n",
       "      <td>4</td>\n",
       "      <td>15</td>\n",
       "    </tr>\n",
       "    <tr>\n",
       "      <th>6</th>\n",
       "      <td>Solar Eclipse</td>\n",
       "      <td>1995</td>\n",
       "      <td>4</td>\n",
       "      <td>29</td>\n",
       "    </tr>\n",
       "    <tr>\n",
       "      <th>7</th>\n",
       "      <td>Lunar Eclipse</td>\n",
       "      <td>1995</td>\n",
       "      <td>10</td>\n",
       "      <td>8</td>\n",
       "    </tr>\n",
       "    <tr>\n",
       "      <th>8</th>\n",
       "      <td>Solar Eclipse</td>\n",
       "      <td>1995</td>\n",
       "      <td>10</td>\n",
       "      <td>24</td>\n",
       "    </tr>\n",
       "    <tr>\n",
       "      <th>9</th>\n",
       "      <td>Lunar Eclipse</td>\n",
       "      <td>1996</td>\n",
       "      <td>4</td>\n",
       "      <td>4</td>\n",
       "    </tr>\n",
       "    <tr>\n",
       "      <th>10</th>\n",
       "      <td>Solar Eclipse</td>\n",
       "      <td>1996</td>\n",
       "      <td>4</td>\n",
       "      <td>17</td>\n",
       "    </tr>\n",
       "    <tr>\n",
       "      <th>11</th>\n",
       "      <td>Lunar Eclipse</td>\n",
       "      <td>1996</td>\n",
       "      <td>9</td>\n",
       "      <td>27</td>\n",
       "    </tr>\n",
       "    <tr>\n",
       "      <th>12</th>\n",
       "      <td>Solar Eclipse</td>\n",
       "      <td>1996</td>\n",
       "      <td>10</td>\n",
       "      <td>12</td>\n",
       "    </tr>\n",
       "    <tr>\n",
       "      <th>13</th>\n",
       "      <td>Solar Eclipse</td>\n",
       "      <td>1997</td>\n",
       "      <td>3</td>\n",
       "      <td>9</td>\n",
       "    </tr>\n",
       "    <tr>\n",
       "      <th>14</th>\n",
       "      <td>Lunar Eclipse</td>\n",
       "      <td>1997</td>\n",
       "      <td>3</td>\n",
       "      <td>24</td>\n",
       "    </tr>\n",
       "    <tr>\n",
       "      <th>15</th>\n",
       "      <td>Solar Eclipse</td>\n",
       "      <td>1997</td>\n",
       "      <td>9</td>\n",
       "      <td>2</td>\n",
       "    </tr>\n",
       "    <tr>\n",
       "      <th>16</th>\n",
       "      <td>Lunar Eclipse</td>\n",
       "      <td>1997</td>\n",
       "      <td>9</td>\n",
       "      <td>16</td>\n",
       "    </tr>\n",
       "    <tr>\n",
       "      <th>17</th>\n",
       "      <td>Solar Eclipse</td>\n",
       "      <td>1998</td>\n",
       "      <td>2</td>\n",
       "      <td>26</td>\n",
       "    </tr>\n",
       "    <tr>\n",
       "      <th>18</th>\n",
       "      <td>Lunar Eclipse</td>\n",
       "      <td>1998</td>\n",
       "      <td>3</td>\n",
       "      <td>13</td>\n",
       "    </tr>\n",
       "    <tr>\n",
       "      <th>19</th>\n",
       "      <td>Lunar Eclipse</td>\n",
       "      <td>1998</td>\n",
       "      <td>8</td>\n",
       "      <td>8</td>\n",
       "    </tr>\n",
       "    <tr>\n",
       "      <th>20</th>\n",
       "      <td>Solar Eclipse</td>\n",
       "      <td>1998</td>\n",
       "      <td>8</td>\n",
       "      <td>22</td>\n",
       "    </tr>\n",
       "    <tr>\n",
       "      <th>21</th>\n",
       "      <td>Lunar Eclipse</td>\n",
       "      <td>1998</td>\n",
       "      <td>9</td>\n",
       "      <td>6</td>\n",
       "    </tr>\n",
       "    <tr>\n",
       "      <th>22</th>\n",
       "      <td>Lunar Eclipse</td>\n",
       "      <td>1999</td>\n",
       "      <td>1</td>\n",
       "      <td>31</td>\n",
       "    </tr>\n",
       "    <tr>\n",
       "      <th>23</th>\n",
       "      <td>Solar Eclipse</td>\n",
       "      <td>1999</td>\n",
       "      <td>2</td>\n",
       "      <td>16</td>\n",
       "    </tr>\n",
       "    <tr>\n",
       "      <th>24</th>\n",
       "      <td>Lunar Eclipse</td>\n",
       "      <td>1999</td>\n",
       "      <td>7</td>\n",
       "      <td>28</td>\n",
       "    </tr>\n",
       "    <tr>\n",
       "      <th>25</th>\n",
       "      <td>Solar Eclipse</td>\n",
       "      <td>1999</td>\n",
       "      <td>8</td>\n",
       "      <td>11</td>\n",
       "    </tr>\n",
       "    <tr>\n",
       "      <th>27</th>\n",
       "      <td>Solar Eclipse</td>\n",
       "      <td>2000</td>\n",
       "      <td>2</td>\n",
       "      <td>5</td>\n",
       "    </tr>\n",
       "    <tr>\n",
       "      <th>28</th>\n",
       "      <td>Solar Eclipse</td>\n",
       "      <td>2000</td>\n",
       "      <td>7</td>\n",
       "      <td>1</td>\n",
       "    </tr>\n",
       "    <tr>\n",
       "      <th>29</th>\n",
       "      <td>Solar Eclipse</td>\n",
       "      <td>2000</td>\n",
       "      <td>7</td>\n",
       "      <td>31</td>\n",
       "    </tr>\n",
       "    <tr>\n",
       "      <th>30</th>\n",
       "      <td>Solar Eclipse</td>\n",
       "      <td>2000</td>\n",
       "      <td>12</td>\n",
       "      <td>25</td>\n",
       "    </tr>\n",
       "    <tr>\n",
       "      <th>31</th>\n",
       "      <td>Solar Eclipse</td>\n",
       "      <td>2001</td>\n",
       "      <td>6</td>\n",
       "      <td>21</td>\n",
       "    </tr>\n",
       "    <tr>\n",
       "      <th>32</th>\n",
       "      <td>Solar Eclipse</td>\n",
       "      <td>2001</td>\n",
       "      <td>12</td>\n",
       "      <td>14</td>\n",
       "    </tr>\n",
       "    <tr>\n",
       "      <th>33</th>\n",
       "      <td>Solar Eclipse</td>\n",
       "      <td>2002</td>\n",
       "      <td>6</td>\n",
       "      <td>10</td>\n",
       "    </tr>\n",
       "    <tr>\n",
       "      <th>34</th>\n",
       "      <td>Solar Eclipse</td>\n",
       "      <td>2002</td>\n",
       "      <td>12</td>\n",
       "      <td>4</td>\n",
       "    </tr>\n",
       "    <tr>\n",
       "      <th>35</th>\n",
       "      <td>Solar Eclipse</td>\n",
       "      <td>2003</td>\n",
       "      <td>5</td>\n",
       "      <td>31</td>\n",
       "    </tr>\n",
       "    <tr>\n",
       "      <th>36</th>\n",
       "      <td>Solar Eclipse</td>\n",
       "      <td>2003</td>\n",
       "      <td>11</td>\n",
       "      <td>23</td>\n",
       "    </tr>\n",
       "  </tbody>\n",
       "</table>\n",
       "</div>"
      ],
      "text/plain": [
       "          eclipse  year  month  day\n",
       "1   Solar Eclipse  1994      5   10\n",
       "2   Lunar Eclipse  1994      5   25\n",
       "3   Solar Eclipse  1994     11    3\n",
       "4   Lunar Eclipse  1994     11   18\n",
       "5   Lunar Eclipse  1995      4   15\n",
       "6   Solar Eclipse  1995      4   29\n",
       "7   Lunar Eclipse  1995     10    8\n",
       "8   Solar Eclipse  1995     10   24\n",
       "9   Lunar Eclipse  1996      4    4\n",
       "10  Solar Eclipse  1996      4   17\n",
       "11  Lunar Eclipse  1996      9   27\n",
       "12  Solar Eclipse  1996     10   12\n",
       "13  Solar Eclipse  1997      3    9\n",
       "14  Lunar Eclipse  1997      3   24\n",
       "15  Solar Eclipse  1997      9    2\n",
       "16  Lunar Eclipse  1997      9   16\n",
       "17  Solar Eclipse  1998      2   26\n",
       "18  Lunar Eclipse  1998      3   13\n",
       "19  Lunar Eclipse  1998      8    8\n",
       "20  Solar Eclipse  1998      8   22\n",
       "21  Lunar Eclipse  1998      9    6\n",
       "22  Lunar Eclipse  1999      1   31\n",
       "23  Solar Eclipse  1999      2   16\n",
       "24  Lunar Eclipse  1999      7   28\n",
       "25  Solar Eclipse  1999      8   11\n",
       "27  Solar Eclipse  2000      2    5\n",
       "28  Solar Eclipse  2000      7    1\n",
       "29  Solar Eclipse  2000      7   31\n",
       "30  Solar Eclipse  2000     12   25\n",
       "31  Solar Eclipse  2001      6   21\n",
       "32  Solar Eclipse  2001     12   14\n",
       "33  Solar Eclipse  2002      6   10\n",
       "34  Solar Eclipse  2002     12    4\n",
       "35  Solar Eclipse  2003      5   31\n",
       "36  Solar Eclipse  2003     11   23"
      ]
     },
     "execution_count": 31,
     "metadata": {},
     "output_type": "execute_result"
    }
   ],
   "source": [
    "eclipses.head()"
   ]
  },
  {
   "cell_type": "code",
   "execution_count": 32,
   "id": "3430d0ef",
   "metadata": {},
   "outputs": [],
   "source": [
    "eclipses.to_csv(\"../data/clean/eclipses_clean.csv\", index=False)\n"
   ]
  },
  {
   "cell_type": "markdown",
   "id": "8ed0122b",
   "metadata": {},
   "source": [
    "Saving the file"
   ]
  },
  {
   "cell_type": "code",
   "execution_count": 33,
   "id": "4d3c7091",
   "metadata": {},
   "outputs": [],
   "source": [
    "combined_holidays = pd.DataFrame()\n",
    "\n",
    "years = range(1994, 2004)\n",
    "\n",
    "for year in years:\n",
    "    file_path = f'../data/original/public_holidays/publicholiday.US.{year}.csv' \n",
    "    \n",
    "    holidays_data = pd.read_csv(file_path)\n",
    "    \n",
    "    combined_holidays = combined_holidays.append(holidays_data, ignore_index=True)\n",
    "\n"
   ]
  },
  {
   "cell_type": "code",
   "execution_count": 34,
   "id": "8c6b17c6",
   "metadata": {},
   "outputs": [
    {
     "data": {
      "text/html": [
       "<div>\n",
       "<style scoped>\n",
       "    .dataframe tbody tr th:only-of-type {\n",
       "        vertical-align: middle;\n",
       "    }\n",
       "\n",
       "    .dataframe tbody tr th {\n",
       "        vertical-align: top;\n",
       "    }\n",
       "\n",
       "    .dataframe thead th {\n",
       "        text-align: right;\n",
       "    }\n",
       "</style>\n",
       "<table border=\"1\" class=\"dataframe\">\n",
       "  <thead>\n",
       "    <tr style=\"text-align: right;\">\n",
       "      <th></th>\n",
       "      <th>Date</th>\n",
       "      <th>LocalName</th>\n",
       "      <th>Name</th>\n",
       "      <th>CountryCode</th>\n",
       "      <th>Fixed</th>\n",
       "      <th>Global</th>\n",
       "      <th>LaunchYear</th>\n",
       "      <th>Type</th>\n",
       "      <th>Counties</th>\n",
       "    </tr>\n",
       "  </thead>\n",
       "  <tbody>\n",
       "    <tr>\n",
       "      <th>0</th>\n",
       "      <td>1993-12-31</td>\n",
       "      <td>New Year's Day</td>\n",
       "      <td>New Year's Day</td>\n",
       "      <td>US</td>\n",
       "      <td>False</td>\n",
       "      <td>True</td>\n",
       "      <td>NaN</td>\n",
       "      <td>Public</td>\n",
       "      <td>NaN</td>\n",
       "    </tr>\n",
       "    <tr>\n",
       "      <th>1</th>\n",
       "      <td>1994-01-17</td>\n",
       "      <td>Martin Luther King, Jr. Day</td>\n",
       "      <td>Martin Luther King, Jr. Day</td>\n",
       "      <td>US</td>\n",
       "      <td>False</td>\n",
       "      <td>True</td>\n",
       "      <td>NaN</td>\n",
       "      <td>Public</td>\n",
       "      <td>NaN</td>\n",
       "    </tr>\n",
       "    <tr>\n",
       "      <th>2</th>\n",
       "      <td>1994-02-21</td>\n",
       "      <td>Presidents Day</td>\n",
       "      <td>Washington's Birthday</td>\n",
       "      <td>US</td>\n",
       "      <td>False</td>\n",
       "      <td>True</td>\n",
       "      <td>NaN</td>\n",
       "      <td>Public</td>\n",
       "      <td>NaN</td>\n",
       "    </tr>\n",
       "    <tr>\n",
       "      <th>3</th>\n",
       "      <td>1994-04-01</td>\n",
       "      <td>Good Friday</td>\n",
       "      <td>Good Friday</td>\n",
       "      <td>US</td>\n",
       "      <td>False</td>\n",
       "      <td>False</td>\n",
       "      <td>NaN</td>\n",
       "      <td>Public</td>\n",
       "      <td>US-CT,US-DE,US-HI,US-IN,US-KY,US-LA,US-NC,US-N...</td>\n",
       "    </tr>\n",
       "    <tr>\n",
       "      <th>4</th>\n",
       "      <td>1994-04-01</td>\n",
       "      <td>Good Friday</td>\n",
       "      <td>Good Friday</td>\n",
       "      <td>US</td>\n",
       "      <td>False</td>\n",
       "      <td>False</td>\n",
       "      <td>NaN</td>\n",
       "      <td>Optional</td>\n",
       "      <td>US-TX</td>\n",
       "    </tr>\n",
       "  </tbody>\n",
       "</table>\n",
       "</div>"
      ],
      "text/plain": [
       "         Date                    LocalName                         Name  \\\n",
       "0  1993-12-31               New Year's Day               New Year's Day   \n",
       "1  1994-01-17  Martin Luther King, Jr. Day  Martin Luther King, Jr. Day   \n",
       "2  1994-02-21               Presidents Day        Washington's Birthday   \n",
       "3  1994-04-01                  Good Friday                  Good Friday   \n",
       "4  1994-04-01                  Good Friday                  Good Friday   \n",
       "\n",
       "  CountryCode  Fixed  Global  LaunchYear      Type  \\\n",
       "0          US  False    True         NaN    Public   \n",
       "1          US  False    True         NaN    Public   \n",
       "2          US  False    True         NaN    Public   \n",
       "3          US  False   False         NaN    Public   \n",
       "4          US  False   False         NaN  Optional   \n",
       "\n",
       "                                            Counties  \n",
       "0                                                NaN  \n",
       "1                                                NaN  \n",
       "2                                                NaN  \n",
       "3  US-CT,US-DE,US-HI,US-IN,US-KY,US-LA,US-NC,US-N...  \n",
       "4                                              US-TX  "
      ]
     },
     "execution_count": 34,
     "metadata": {},
     "output_type": "execute_result"
    }
   ],
   "source": [
    "combined_holidays.head()"
   ]
  },
  {
   "cell_type": "markdown",
   "id": "adc5dc61",
   "metadata": {},
   "source": [
    "Combining all the files for public holidays (there is one .csv file for each year) and opening them as a dataframe."
   ]
  },
  {
   "cell_type": "code",
   "execution_count": 35,
   "id": "6fa8b68a",
   "metadata": {},
   "outputs": [],
   "source": [
    "combined_holidays=combined_holidays[['Date','Name']]"
   ]
  },
  {
   "cell_type": "markdown",
   "id": "3b9175a8",
   "metadata": {},
   "source": [
    "Choosing only the columns I am interested in "
   ]
  },
  {
   "cell_type": "code",
   "execution_count": 36,
   "id": "05768c25",
   "metadata": {},
   "outputs": [],
   "source": [
    "combined_holidays['year']=combined_holidays['Date']\n",
    "combined_holidays['month']=combined_holidays['Date']\n",
    "combined_holidays['day']=combined_holidays['Date']"
   ]
  },
  {
   "cell_type": "markdown",
   "id": "4c5860af",
   "metadata": {},
   "source": [
    "Creating columns for year month and day. "
   ]
  },
  {
   "cell_type": "code",
   "execution_count": 37,
   "id": "b1d0bbc9",
   "metadata": {},
   "outputs": [],
   "source": [
    "combined_holidays['year'] = combined_holidays['year'].apply(cleaning_hol_year)\n",
    "combined_holidays['month'] = combined_holidays['month'].apply(cleaning_hol_month)\n",
    "combined_holidays['day'] = combined_holidays['day'].apply(cleaning_hol_day)"
   ]
  },
  {
   "cell_type": "markdown",
   "id": "1ee1e531",
   "metadata": {},
   "source": [
    "Cleaning my newly-created columns with the functions I created in support_cleaning.py"
   ]
  },
  {
   "cell_type": "code",
   "execution_count": 38,
   "id": "6b209bdd",
   "metadata": {},
   "outputs": [],
   "source": [
    "combined_holidays=combined_holidays.drop('Date', axis=1)"
   ]
  },
  {
   "cell_type": "code",
   "execution_count": 39,
   "id": "56470759",
   "metadata": {},
   "outputs": [],
   "source": [
    "combined_holidays=combined_holidays.rename(columns={'Name':'holiday'})"
   ]
  },
  {
   "cell_type": "markdown",
   "id": "84c99162",
   "metadata": {},
   "source": [
    "Dropping column 'Date' since it is no longer necessary and changing column 'Name' to 'holiday'. "
   ]
  },
  {
   "cell_type": "code",
   "execution_count": 40,
   "id": "daf2487d",
   "metadata": {},
   "outputs": [],
   "source": [
    "combined_holidays['year'] = combined_holidays['year'].astype(int)\n",
    "combined_holidays['month'] = combined_holidays['month'].astype(int)\n",
    "combined_holidays['day'] = combined_holidays['day'].astype(int)"
   ]
  },
  {
   "cell_type": "code",
   "execution_count": null,
   "id": "541e46be",
   "metadata": {},
   "outputs": [],
   "source": [
    "Changing the type of 'year', 'month' and 'day' so they appear as integers "
   ]
  },
  {
   "cell_type": "code",
   "execution_count": 41,
   "id": "e9a8873f",
   "metadata": {},
   "outputs": [],
   "source": [
    "combined_holidays=combined_holidays[1:]"
   ]
  },
  {
   "cell_type": "code",
   "execution_count": 42,
   "id": "522f4d07",
   "metadata": {},
   "outputs": [
    {
     "data": {
      "text/html": [
       "<div>\n",
       "<style scoped>\n",
       "    .dataframe tbody tr th:only-of-type {\n",
       "        vertical-align: middle;\n",
       "    }\n",
       "\n",
       "    .dataframe tbody tr th {\n",
       "        vertical-align: top;\n",
       "    }\n",
       "\n",
       "    .dataframe thead th {\n",
       "        text-align: right;\n",
       "    }\n",
       "</style>\n",
       "<table border=\"1\" class=\"dataframe\">\n",
       "  <thead>\n",
       "    <tr style=\"text-align: right;\">\n",
       "      <th></th>\n",
       "      <th>holiday</th>\n",
       "      <th>year</th>\n",
       "      <th>month</th>\n",
       "      <th>day</th>\n",
       "    </tr>\n",
       "  </thead>\n",
       "  <tbody>\n",
       "    <tr>\n",
       "      <th>1</th>\n",
       "      <td>Martin Luther King, Jr. Day</td>\n",
       "      <td>1994</td>\n",
       "      <td>1</td>\n",
       "      <td>17</td>\n",
       "    </tr>\n",
       "    <tr>\n",
       "      <th>2</th>\n",
       "      <td>Washington's Birthday</td>\n",
       "      <td>1994</td>\n",
       "      <td>2</td>\n",
       "      <td>21</td>\n",
       "    </tr>\n",
       "    <tr>\n",
       "      <th>3</th>\n",
       "      <td>Good Friday</td>\n",
       "      <td>1994</td>\n",
       "      <td>4</td>\n",
       "      <td>1</td>\n",
       "    </tr>\n",
       "    <tr>\n",
       "      <th>4</th>\n",
       "      <td>Good Friday</td>\n",
       "      <td>1994</td>\n",
       "      <td>4</td>\n",
       "      <td>1</td>\n",
       "    </tr>\n",
       "    <tr>\n",
       "      <th>5</th>\n",
       "      <td>Memorial Day</td>\n",
       "      <td>1994</td>\n",
       "      <td>5</td>\n",
       "      <td>30</td>\n",
       "    </tr>\n",
       "  </tbody>\n",
       "</table>\n",
       "</div>"
      ],
      "text/plain": [
       "                       holiday  year  month  day\n",
       "1  Martin Luther King, Jr. Day  1994      1   17\n",
       "2        Washington's Birthday  1994      2   21\n",
       "3                  Good Friday  1994      4    1\n",
       "4                  Good Friday  1994      4    1\n",
       "5                 Memorial Day  1994      5   30"
      ]
     },
     "execution_count": 42,
     "metadata": {},
     "output_type": "execute_result"
    }
   ],
   "source": [
    "combined_holidays.head()"
   ]
  },
  {
   "cell_type": "code",
   "execution_count": 43,
   "id": "7cda3690",
   "metadata": {},
   "outputs": [],
   "source": [
    "combined_holidays.to_csv('../data/clean/holidays_clean.csv')"
   ]
  }
 ],
 "metadata": {
  "kernelspec": {
   "display_name": "Python 3 (ipykernel)",
   "language": "python",
   "name": "python3"
  },
  "language_info": {
   "codemirror_mode": {
    "name": "ipython",
    "version": 3
   },
   "file_extension": ".py",
   "mimetype": "text/x-python",
   "name": "python",
   "nbconvert_exporter": "python",
   "pygments_lexer": "ipython3",
   "version": "3.11.4"
  }
 },
 "nbformat": 4,
 "nbformat_minor": 5
}
