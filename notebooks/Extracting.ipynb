{
 "cells": [
  {
   "cell_type": "code",
   "execution_count": 1,
   "id": "73c036ac",
   "metadata": {},
   "outputs": [],
   "source": [
    "import pandas as pd\n",
    "from selenium import webdriver\n",
    "from selenium.webdriver.common.by import By\n",
    "import time\n",
    "import sys\n",
    "sys.path.append('../src')\n",
    "\n",
    "from support_extracting import extract_moon_phases"
   ]
  },
  {
   "cell_type": "markdown",
   "id": "9ee201dd",
   "metadata": {},
   "source": [
    "Importing all necessary libraries and modules and a function I created for extracting the data in support_extracting.py"
   ]
  },
  {
   "cell_type": "code",
   "execution_count": 2,
   "id": "5be61231",
   "metadata": {},
   "outputs": [],
   "source": [
    "PATH = 'Ironhack/driver/chromedriver.exe'\n",
    "driver = webdriver.Chrome()"
   ]
  },
  {
   "cell_type": "code",
   "execution_count": null,
   "id": "be306a30",
   "metadata": {},
   "outputs": [
    {
     "name": "stdout",
     "output_type": "stream",
     "text": [
      "january completed succesfully\n",
      "february completed succesfully\n",
      "march completed succesfully\n",
      "april completed succesfully\n",
      "may completed succesfully\n",
      "june completed succesfully\n",
      "july completed succesfully\n",
      "august completed succesfully\n",
      "september completed succesfully\n",
      "october completed succesfully\n",
      "november completed succesfully\n",
      "december completed succesfully\n",
      "january completed succesfully\n",
      "february completed succesfully\n",
      "march completed succesfully\n",
      "april completed succesfully\n",
      "may completed succesfully\n",
      "june completed succesfully\n",
      "july completed succesfully\n",
      "august completed succesfully\n",
      "september completed succesfully\n",
      "october completed succesfully\n",
      "november completed succesfully\n",
      "december completed succesfully\n",
      "january completed succesfully\n",
      "february completed succesfully\n",
      "march completed succesfully\n",
      "april completed succesfully\n",
      "may completed succesfully\n",
      "june completed succesfully\n",
      "july completed succesfully\n",
      "august completed succesfully\n",
      "september completed succesfully\n",
      "october completed succesfully\n",
      "november completed succesfully\n",
      "december completed succesfully\n",
      "january completed succesfully\n",
      "february completed succesfully\n",
      "march completed succesfully\n",
      "april completed succesfully\n",
      "may completed succesfully\n",
      "june completed succesfully\n",
      "july completed succesfully\n",
      "august completed succesfully\n",
      "september completed succesfully\n",
      "october completed succesfully\n",
      "november completed succesfully\n",
      "december completed succesfully\n",
      "january completed succesfully\n",
      "february completed succesfully\n",
      "march completed succesfully\n",
      "april completed succesfully\n",
      "may completed succesfully\n",
      "june completed succesfully\n",
      "july completed succesfully\n",
      "august completed succesfully\n",
      "september completed succesfully\n",
      "october completed succesfully\n",
      "november completed succesfully\n",
      "december completed succesfully\n",
      "january completed succesfully\n",
      "february completed succesfully\n",
      "march completed succesfully\n",
      "april completed succesfully\n",
      "may completed succesfully\n",
      "june completed succesfully\n",
      "july completed succesfully\n",
      "august completed succesfully\n",
      "september completed succesfully\n",
      "october completed succesfully\n",
      "november completed succesfully\n",
      "december completed succesfully\n",
      "january completed succesfully\n",
      "february completed succesfully\n",
      "march completed succesfully\n",
      "april completed succesfully\n",
      "may completed succesfully\n",
      "june completed succesfully\n",
      "july completed succesfully\n",
      "august completed succesfully\n",
      "september completed succesfully\n",
      "october completed succesfully\n",
      "november completed succesfully\n",
      "december completed succesfully\n",
      "january completed succesfully\n",
      "february completed succesfully\n",
      "march completed succesfully\n",
      "april completed succesfully\n",
      "may completed succesfully\n",
      "june completed succesfully\n",
      "july completed succesfully\n",
      "august completed succesfully\n",
      "september completed succesfully\n",
      "october completed succesfully\n",
      "november completed succesfully\n",
      "december completed succesfully\n",
      "january completed succesfully\n",
      "february completed succesfully\n",
      "march completed succesfully\n",
      "april completed succesfully\n",
      "may completed succesfully\n",
      "june completed succesfully\n",
      "july completed succesfully\n",
      "august completed succesfully\n",
      "september completed succesfully\n",
      "october completed succesfully\n",
      "november completed succesfully\n"
     ]
    }
   ],
   "source": [
    "data=extract_moon_phases()"
   ]
  },
  {
   "cell_type": "markdown",
   "id": "c6e2120e",
   "metadata": {},
   "source": [
    "Using the function I created for selenium to extract the data. I save the data in a variable called 'data'"
   ]
  },
  {
   "cell_type": "code",
   "execution_count": null,
   "id": "0b80ad71",
   "metadata": {},
   "outputs": [],
   "source": [
    "data[:10]"
   ]
  },
  {
   "cell_type": "markdown",
   "id": "cc16e49b",
   "metadata": {},
   "source": [
    "Making sure my data has been extracted correctly"
   ]
  },
  {
   "cell_type": "code",
   "execution_count": null,
   "id": "496fba15",
   "metadata": {},
   "outputs": [],
   "source": [
    "df=pd.DataFrame(data)"
   ]
  },
  {
   "cell_type": "markdown",
   "id": "4a481b26",
   "metadata": {},
   "source": [
    "Converting it to a DataFrame"
   ]
  },
  {
   "cell_type": "code",
   "execution_count": null,
   "id": "4a436fa1",
   "metadata": {},
   "outputs": [],
   "source": [
    "df.to_csv(\"../data/original/moon_phases.csv\", index=False)\n"
   ]
  },
  {
   "cell_type": "markdown",
   "id": "259a731b",
   "metadata": {},
   "source": [
    "Saving the file"
   ]
  },
  {
   "cell_type": "code",
   "execution_count": null,
   "id": "9edcc43e",
   "metadata": {},
   "outputs": [],
   "source": [
    "driver = webdriver.Chrome()\n",
    "\n",
    "eclipses_data=[]\n",
    "\n",
    "url = f'https://mooncalendar.astro-seek.com/solar-and-lunar-eclipses-1994'\n",
    "driver.get(url)\n",
    "driver.find_element(By.XPATH, '/html/body/div[1]/a[2]').click()\n"
   ]
  },
  {
   "cell_type": "markdown",
   "id": "33330a37",
   "metadata": {},
   "source": [
    "Entering a new page to extract data for eclipses from 1994 to 1999. "
   ]
  },
  {
   "cell_type": "code",
   "execution_count": null,
   "id": "013dd1a0",
   "metadata": {},
   "outputs": [],
   "source": [
    "body=driver.find_element(By.CSS_SELECTOR,'body > div.main-nad-envelope > div.main-envelope > div.main-web > div.stredni-menu > div.obsah > div:nth-child(3) > div.detail-rozbor > div > div:nth-child(9) > table')"
   ]
  },
  {
   "cell_type": "code",
   "execution_count": null,
   "id": "40482d92",
   "metadata": {},
   "outputs": [],
   "source": [
    "rows=body.find_elements(By.TAG_NAME, 'tr')"
   ]
  },
  {
   "cell_type": "code",
   "execution_count": null,
   "id": "bd8155a7",
   "metadata": {},
   "outputs": [],
   "source": [
    "rows[1].text"
   ]
  },
  {
   "cell_type": "code",
   "execution_count": null,
   "id": "05fc27ad",
   "metadata": {},
   "outputs": [],
   "source": [
    "rows_cleaned=rows[1].text.split('\\n')\n"
   ]
  },
  {
   "cell_type": "code",
   "execution_count": null,
   "id": "4ba2bda6",
   "metadata": {},
   "outputs": [],
   "source": [
    "rows_cleaned"
   ]
  },
  {
   "cell_type": "code",
   "execution_count": null,
   "id": "a221f4d1",
   "metadata": {},
   "outputs": [],
   "source": [
    "eclipse_data=[]\n",
    "for element in rows:\n",
    "    rows_cleaned=element.text.split('\\n')\n",
    "    eclipse_data.append(rows_cleaned)\n",
    "    \n",
    "eclipse_data[:10]"
   ]
  },
  {
   "cell_type": "markdown",
   "id": "eaad28be",
   "metadata": {},
   "source": [
    "Extracting the data"
   ]
  },
  {
   "cell_type": "code",
   "execution_count": null,
   "id": "c2ecf4e8",
   "metadata": {},
   "outputs": [],
   "source": [
    "url = f'https://mooncalendar.astro-seek.com/solar-eclipses-decade-2000-2009'\n",
    "driver.get(url)\n",
    "body=driver.find_element(By.CSS_SELECTOR,'body > div.main-nad-envelope > div.main-envelope > div.main-web > div.stredni-menu > div.obsah > div:nth-child(3) > div.detail-rozbor > div > div:nth-child(9) > table')\n",
    "rows=body.find_elements(By.TAG_NAME, 'tr')"
   ]
  },
  {
   "cell_type": "markdown",
   "id": "9c5d7f40",
   "metadata": {},
   "source": [
    "Entering a new page to extract data for eclipses from 2000 to 2009. "
   ]
  },
  {
   "cell_type": "code",
   "execution_count": null,
   "id": "5b139c3e",
   "metadata": {},
   "outputs": [],
   "source": [
    "for element in rows:\n",
    "    rows_cleaned=element.text.split('\\n')\n",
    "    eclipse_data.append(rows_cleaned)\n",
    "    \n",
    "eclipse_data[:10]"
   ]
  },
  {
   "cell_type": "markdown",
   "id": "32723656",
   "metadata": {},
   "source": [
    "Extracting the data and adding it to the list with eclipses from 1994-2000. "
   ]
  },
  {
   "cell_type": "code",
   "execution_count": null,
   "id": "6a27a21c",
   "metadata": {},
   "outputs": [],
   "source": [
    "eclipse_df=pd.DataFrame(eclipse_data)"
   ]
  },
  {
   "cell_type": "markdown",
   "id": "83dbdcbd",
   "metadata": {},
   "source": [
    "Converting it to a dataframe"
   ]
  },
  {
   "cell_type": "code",
   "execution_count": null,
   "id": "7dc2bbb9",
   "metadata": {},
   "outputs": [],
   "source": [
    "eclipse_df.to_csv(\"../data/original/eclipses.csv\", index=False)\n"
   ]
  },
  {
   "cell_type": "markdown",
   "id": "4b75f07a",
   "metadata": {},
   "source": [
    "Saving the file. "
   ]
  }
 ],
 "metadata": {
  "kernelspec": {
   "display_name": "Python 3 (ipykernel)",
   "language": "python",
   "name": "python3"
  },
  "language_info": {
   "codemirror_mode": {
    "name": "ipython",
    "version": 3
   },
   "file_extension": ".py",
   "mimetype": "text/x-python",
   "name": "python",
   "nbconvert_exporter": "python",
   "pygments_lexer": "ipython3",
   "version": "3.11.4"
  }
 },
 "nbformat": 4,
 "nbformat_minor": 5
}
