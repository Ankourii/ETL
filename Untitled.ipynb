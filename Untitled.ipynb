{
 "cells": [
  {
   "cell_type": "code",
   "execution_count": 1,
   "id": "8aa9ac63",
   "metadata": {},
   "outputs": [],
   "source": [
    "import pandas as pd\n",
    "from selenium.webdriver.chrome.options import Options\n",
    "from webdriver_manager.chrome import ChromeDriverManager\n",
    "from selenium import webdriver\n",
    "from selenium.webdriver.common.by import By\n",
    "from selenium.webdriver.common.keys import Keys\n",
    "import time\n",
    "from selenium.webdriver.support.ui import Select   # seleccion de un dropdown\n"
   ]
  },
  {
   "cell_type": "code",
   "execution_count": 2,
   "id": "adca0ff8",
   "metadata": {},
   "outputs": [],
   "source": [
    "#driver configuration\n",
    "opciones=Options()\n",
    "\n",
    "opciones.add_experimental_option('excludeSwitches', ['enable-automation'])\n",
    "opciones.add_experimental_option('useAutomationExtension', False)\n",
    "opciones.headless=False    # si True, no aperece la ventana (headless=no visible)\n",
    "opciones.add_argument('--start-maximized')         # comienza maximizado\n",
    "#opciones.add_argument('user-data-dir=selenium')    # mantiene las cookies\n",
    "#opciones.add_extension('driver_folder/adblock.crx')       # adblocker\n",
    "opciones.add_argument('--incognito')"
   ]
  },
  {
   "cell_type": "code",
   "execution_count": 3,
   "id": "32d13613",
   "metadata": {},
   "outputs": [],
   "source": [
    "PATH = 'Ironhack/driver/chromedriver.exe'\n",
    "driver = webdriver.Chrome()"
   ]
  },
  {
   "cell_type": "code",
   "execution_count": 4,
   "id": "6f6dec6f",
   "metadata": {},
   "outputs": [],
   "source": [
    "url=f'https://en.aegeanair.com/'"
   ]
  },
  {
   "cell_type": "code",
   "execution_count": 5,
   "id": "af3bb5fd",
   "metadata": {},
   "outputs": [],
   "source": [
    "driver.get(url)\n"
   ]
  },
  {
   "cell_type": "code",
   "execution_count": 6,
   "id": "91c8703a",
   "metadata": {},
   "outputs": [],
   "source": [
    "try:\n",
    "    xpath='//*[@id=\"onetrust-accept-btn-handler\"]'\n",
    "    driver.find_elements(By.XPATH, xpath)[0].click()\n",
    "except:\n",
    "    print('Already accepted')\n"
   ]
  },
  {
   "cell_type": "code",
   "execution_count": 7,
   "id": "5e19e30c",
   "metadata": {},
   "outputs": [],
   "source": [
    "texto_ori = driver.find_element(By.XPATH, '/html/body/div[1]/main/section[1]/div/div[1]/div/div/div/div[2]/div/form/div[2]/div/div[2]/div/div[2]/div[1]/input[2]') "
   ]
  },
  {
   "cell_type": "code",
   "execution_count": 8,
   "id": "591333bd",
   "metadata": {},
   "outputs": [],
   "source": [
    "texto_ori.send_keys('MADRID')\n",
    "time.sleep(3)\n",
    "texto_ori.send_keys(Keys.ENTER)"
   ]
  },
  {
   "cell_type": "code",
   "execution_count": 21,
   "id": "eb29d848",
   "metadata": {},
   "outputs": [],
   "source": []
  },
  {
   "cell_type": "code",
   "execution_count": 10,
   "id": "342d7003",
   "metadata": {},
   "outputs": [],
   "source": [
    "texto_dest = driver.find_element(By.XPATH, '/html/body/div[1]/main/section[1]/div/div[1]/div/div/div/div[2]/div/form/div[2]/div/div[2]/div/div[2]/div[2]/input[2]') \n"
   ]
  },
  {
   "cell_type": "code",
   "execution_count": 11,
   "id": "8cb20173",
   "metadata": {},
   "outputs": [],
   "source": [
    "texto_dest.send_keys('LARNAKA')\n",
    "time.sleep(3)\n",
    "texto_dest.send_keys(Keys.ENTER)"
   ]
  },
  {
   "cell_type": "code",
   "execution_count": null,
   "id": "502e7239",
   "metadata": {},
   "outputs": [],
   "source": []
  },
  {
   "cell_type": "code",
   "execution_count": null,
   "id": "2bbb1c00",
   "metadata": {},
   "outputs": [],
   "source": []
  },
  {
   "cell_type": "code",
   "execution_count": 12,
   "id": "8fdeabb5",
   "metadata": {},
   "outputs": [
    {
     "ename": "ElementNotInteractableException",
     "evalue": "Message: element not interactable\n  (Session info: chrome=119.0.6045.106)\nStacktrace:\n\tGetHandleVerifier [0x00007FF654AB82B2+55298]\n\t(No symbol) [0x00007FF654A25E02]\n\t(No symbol) [0x00007FF6548E045D]\n\t(No symbol) [0x00007FF65491CA37]\n\t(No symbol) [0x00007FF65491BD82]\n\t(No symbol) [0x00007FF6549420AA]\n\t(No symbol) [0x00007FF6549180CF]\n\t(No symbol) [0x00007FF6549422C0]\n\t(No symbol) [0x00007FF65495AAA4]\n\t(No symbol) [0x00007FF654941E83]\n\t(No symbol) [0x00007FF65491670A]\n\t(No symbol) [0x00007FF654917964]\n\tGetHandleVerifier [0x00007FF654E30AAB+3694587]\n\tGetHandleVerifier [0x00007FF654E8728E+4048862]\n\tGetHandleVerifier [0x00007FF654E7F173+4015811]\n\tGetHandleVerifier [0x00007FF654B547D6+695590]\n\t(No symbol) [0x00007FF654A30CE8]\n\t(No symbol) [0x00007FF654A2CF34]\n\t(No symbol) [0x00007FF654A2D062]\n\t(No symbol) [0x00007FF654A1D3A3]\n\tBaseThreadInitThunk [0x00007FF840767344+20]\n\tRtlUserThreadStart [0x00007FF841EC26B1+33]\n",
     "output_type": "error",
     "traceback": [
      "\u001b[1;31m---------------------------------------------------------------------------\u001b[0m",
      "\u001b[1;31mElementNotInteractableException\u001b[0m           Traceback (most recent call last)",
      "Cell \u001b[1;32mIn[12], line 2\u001b[0m\n\u001b[0;32m      1\u001b[0m dropdown \u001b[38;5;241m=\u001b[39m driver\u001b[38;5;241m.\u001b[39mfind_element(By\u001b[38;5;241m.\u001b[39mXPATH, \u001b[38;5;124m'\u001b[39m\u001b[38;5;124m//*[@id=\u001b[39m\u001b[38;5;124m\"\u001b[39m\u001b[38;5;124mflightMaskMainForm\u001b[39m\u001b[38;5;124m\"\u001b[39m\u001b[38;5;124m]/div[4]/div[1]/div[1]/div/div[2]/div[1]/div[1]\u001b[39m\u001b[38;5;124m'\u001b[39m)\n\u001b[1;32m----> 2\u001b[0m dropdown\u001b[38;5;241m.\u001b[39msend_keys(\u001b[38;5;124m'\u001b[39m\u001b[38;5;124m02 Nov- 09 Nov\u001b[39m\u001b[38;5;124m'\u001b[39m)\n\u001b[0;32m      3\u001b[0m dromdown\u001b[38;5;241m.\u001b[39msend_keys(Keys\u001b[38;5;241m.\u001b[39mENTER)\n",
      "File \u001b[1;32m~\\anaconda3\\Lib\\site-packages\\selenium\\webdriver\\remote\\webelement.py:230\u001b[0m, in \u001b[0;36mWebElement.send_keys\u001b[1;34m(self, *value)\u001b[0m\n\u001b[0;32m    227\u001b[0m             remote_files\u001b[38;5;241m.\u001b[39mappend(\u001b[38;5;28mself\u001b[39m\u001b[38;5;241m.\u001b[39m_upload(file))\n\u001b[0;32m    228\u001b[0m         value \u001b[38;5;241m=\u001b[39m \u001b[38;5;124m\"\u001b[39m\u001b[38;5;130;01m\\n\u001b[39;00m\u001b[38;5;124m\"\u001b[39m\u001b[38;5;241m.\u001b[39mjoin(remote_files)\n\u001b[1;32m--> 230\u001b[0m \u001b[38;5;28mself\u001b[39m\u001b[38;5;241m.\u001b[39m_execute(\n\u001b[0;32m    231\u001b[0m     Command\u001b[38;5;241m.\u001b[39mSEND_KEYS_TO_ELEMENT, {\u001b[38;5;124m\"\u001b[39m\u001b[38;5;124mtext\u001b[39m\u001b[38;5;124m\"\u001b[39m: \u001b[38;5;124m\"\u001b[39m\u001b[38;5;124m\"\u001b[39m\u001b[38;5;241m.\u001b[39mjoin(keys_to_typing(value)), \u001b[38;5;124m\"\u001b[39m\u001b[38;5;124mvalue\u001b[39m\u001b[38;5;124m\"\u001b[39m: keys_to_typing(value)}\n\u001b[0;32m    232\u001b[0m )\n",
      "File \u001b[1;32m~\\anaconda3\\Lib\\site-packages\\selenium\\webdriver\\remote\\webelement.py:394\u001b[0m, in \u001b[0;36mWebElement._execute\u001b[1;34m(self, command, params)\u001b[0m\n\u001b[0;32m    392\u001b[0m     params \u001b[38;5;241m=\u001b[39m {}\n\u001b[0;32m    393\u001b[0m params[\u001b[38;5;124m\"\u001b[39m\u001b[38;5;124mid\u001b[39m\u001b[38;5;124m\"\u001b[39m] \u001b[38;5;241m=\u001b[39m \u001b[38;5;28mself\u001b[39m\u001b[38;5;241m.\u001b[39m_id\n\u001b[1;32m--> 394\u001b[0m \u001b[38;5;28;01mreturn\u001b[39;00m \u001b[38;5;28mself\u001b[39m\u001b[38;5;241m.\u001b[39m_parent\u001b[38;5;241m.\u001b[39mexecute(command, params)\n",
      "File \u001b[1;32m~\\anaconda3\\Lib\\site-packages\\selenium\\webdriver\\remote\\webdriver.py:344\u001b[0m, in \u001b[0;36mWebDriver.execute\u001b[1;34m(self, driver_command, params)\u001b[0m\n\u001b[0;32m    342\u001b[0m response \u001b[38;5;241m=\u001b[39m \u001b[38;5;28mself\u001b[39m\u001b[38;5;241m.\u001b[39mcommand_executor\u001b[38;5;241m.\u001b[39mexecute(driver_command, params)\n\u001b[0;32m    343\u001b[0m \u001b[38;5;28;01mif\u001b[39;00m response:\n\u001b[1;32m--> 344\u001b[0m     \u001b[38;5;28mself\u001b[39m\u001b[38;5;241m.\u001b[39merror_handler\u001b[38;5;241m.\u001b[39mcheck_response(response)\n\u001b[0;32m    345\u001b[0m     response[\u001b[38;5;124m\"\u001b[39m\u001b[38;5;124mvalue\u001b[39m\u001b[38;5;124m\"\u001b[39m] \u001b[38;5;241m=\u001b[39m \u001b[38;5;28mself\u001b[39m\u001b[38;5;241m.\u001b[39m_unwrap_value(response\u001b[38;5;241m.\u001b[39mget(\u001b[38;5;124m\"\u001b[39m\u001b[38;5;124mvalue\u001b[39m\u001b[38;5;124m\"\u001b[39m, \u001b[38;5;28;01mNone\u001b[39;00m))\n\u001b[0;32m    346\u001b[0m     \u001b[38;5;28;01mreturn\u001b[39;00m response\n",
      "File \u001b[1;32m~\\anaconda3\\Lib\\site-packages\\selenium\\webdriver\\remote\\errorhandler.py:229\u001b[0m, in \u001b[0;36mErrorHandler.check_response\u001b[1;34m(self, response)\u001b[0m\n\u001b[0;32m    227\u001b[0m         alert_text \u001b[38;5;241m=\u001b[39m value[\u001b[38;5;124m\"\u001b[39m\u001b[38;5;124malert\u001b[39m\u001b[38;5;124m\"\u001b[39m]\u001b[38;5;241m.\u001b[39mget(\u001b[38;5;124m\"\u001b[39m\u001b[38;5;124mtext\u001b[39m\u001b[38;5;124m\"\u001b[39m)\n\u001b[0;32m    228\u001b[0m     \u001b[38;5;28;01mraise\u001b[39;00m exception_class(message, screen, stacktrace, alert_text)  \u001b[38;5;66;03m# type: ignore[call-arg]  # mypy is not smart enough here\u001b[39;00m\n\u001b[1;32m--> 229\u001b[0m \u001b[38;5;28;01mraise\u001b[39;00m exception_class(message, screen, stacktrace)\n",
      "\u001b[1;31mElementNotInteractableException\u001b[0m: Message: element not interactable\n  (Session info: chrome=119.0.6045.106)\nStacktrace:\n\tGetHandleVerifier [0x00007FF654AB82B2+55298]\n\t(No symbol) [0x00007FF654A25E02]\n\t(No symbol) [0x00007FF6548E045D]\n\t(No symbol) [0x00007FF65491CA37]\n\t(No symbol) [0x00007FF65491BD82]\n\t(No symbol) [0x00007FF6549420AA]\n\t(No symbol) [0x00007FF6549180CF]\n\t(No symbol) [0x00007FF6549422C0]\n\t(No symbol) [0x00007FF65495AAA4]\n\t(No symbol) [0x00007FF654941E83]\n\t(No symbol) [0x00007FF65491670A]\n\t(No symbol) [0x00007FF654917964]\n\tGetHandleVerifier [0x00007FF654E30AAB+3694587]\n\tGetHandleVerifier [0x00007FF654E8728E+4048862]\n\tGetHandleVerifier [0x00007FF654E7F173+4015811]\n\tGetHandleVerifier [0x00007FF654B547D6+695590]\n\t(No symbol) [0x00007FF654A30CE8]\n\t(No symbol) [0x00007FF654A2CF34]\n\t(No symbol) [0x00007FF654A2D062]\n\t(No symbol) [0x00007FF654A1D3A3]\n\tBaseThreadInitThunk [0x00007FF840767344+20]\n\tRtlUserThreadStart [0x00007FF841EC26B1+33]\n"
     ]
    }
   ],
   "source": []
  }
 ],
 "metadata": {
  "kernelspec": {
   "display_name": "Python 3 (ipykernel)",
   "language": "python",
   "name": "python3"
  },
  "language_info": {
   "codemirror_mode": {
    "name": "ipython",
    "version": 3
   },
   "file_extension": ".py",
   "mimetype": "text/x-python",
   "name": "python",
   "nbconvert_exporter": "python",
   "pygments_lexer": "ipython3",
   "version": "3.11.4"
  }
 },
 "nbformat": 4,
 "nbformat_minor": 5
}
